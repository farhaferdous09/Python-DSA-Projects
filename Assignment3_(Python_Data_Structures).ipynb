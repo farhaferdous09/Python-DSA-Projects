{
  "nbformat": 4,
  "nbformat_minor": 0,
  "metadata": {
    "colab": {
      "provenance": []
    },
    "kernelspec": {
      "name": "python3",
      "display_name": "Python 3"
    },
    "language_info": {
      "name": "python"
    }
  },
  "cells": [
    {
      "cell_type": "markdown",
      "source": [
        "* Name: &lt;**Farha Ferdous**&gt;\n",
        "\n",
        "* Student ID: &lt;**24298372**&gt;\n",
        "\n",
        "\n",
        "---\n",
        "\n"
      ],
      "metadata": {
        "id": "jp7Q_lhvA92B"
      }
    },
    {
      "cell_type": "markdown",
      "source": [
        "**Instructions**\n",
        "\n",
        "* Create a copy of this notebook (this notebook itself is set to be immutable).\n",
        "\n",
        "\n",
        "* Complete all questions below by implementing the corresponding function or class. Do not modify any existing code.\n",
        "\n",
        "* Share your notebook and paste the link to Blackboard.\n",
        "---\n",
        "\n"
      ],
      "metadata": {
        "id": "eRc6GY-2pc8M"
      }
    },
    {
      "cell_type": "markdown",
      "source": [
        "1. Implement a function that reverses a list of elements by pushing them onto a stack in one order, and writing them back to the list in reversed order."
      ],
      "metadata": {
        "id": "Dfpmq6V6aBJ5"
      }
    },
    {
      "cell_type": "code",
      "source": [
        "#A simple implementation of stack\n",
        "class Stack:\n",
        "    def __init__(self):\n",
        "        self.items = []\n",
        "\n",
        "    def is_empty(self):\n",
        "        return self.items == []\n",
        "\n",
        "    def push(self, item):\n",
        "        self.items.append(item)\n",
        "\n",
        "    def pop(self):\n",
        "        return self.items.pop()\n",
        "\n",
        "def reverse(sequence):\n",
        "  #TODO: implement this function that reverses a list with a stack\n",
        "  stack = Stack()\n",
        "\n",
        "  for item in sequence: # push all elements onto the stack\n",
        "    stack.push(item)\n",
        "\n",
        "  for i in range(len(sequence)): # pop elements from stack and write them into list\n",
        "    sequence[i] = stack.pop()\n",
        "\n",
        "L = list(range(1, 11))\n",
        "reverse(L)\n",
        "print(L)"
      ],
      "metadata": {
        "id": "HbHXuUnUaUTn",
        "colab": {
          "base_uri": "https://localhost:8080/"
        },
        "outputId": "75b38218-6bcf-4c8e-d646-c87c1b64389f"
      },
      "execution_count": null,
      "outputs": [
        {
          "output_type": "stream",
          "name": "stdout",
          "text": [
            "[10, 9, 8, 7, 6, 5, 4, 3, 2, 1]\n"
          ]
        }
      ]
    },
    {
      "cell_type": "markdown",
      "source": [
        "2. Give a simple adapter that implements our queue ADT while using a collections.deque instance for storage."
      ],
      "metadata": {
        "id": "oIo8lrw3a3iV"
      }
    },
    {
      "cell_type": "code",
      "source": [
        "from collections import deque\n",
        "\n",
        "class Queue:\n",
        "    def __init__(self):\n",
        "        self._data = deque()\n",
        "\n",
        "    def __len__(self):\n",
        "        #TODO: implement this function\n",
        "        return len(self._data) # get length of queue\n",
        "\n",
        "    def is_empty(self):\n",
        "        #TODO: implement this function\n",
        "        return len(self._data) == 0 # check if queue is empty\n",
        "\n",
        "    def first(self):\n",
        "        #TODO: implement this function\n",
        "        if self.is_empty():\n",
        "          raise ValueError(\"the queue is empty.\")\n",
        "        return self._data[0] # get first element of queue\n",
        "\n",
        "    def enqueue(self, e):\n",
        "        #TODO: implement this function\n",
        "        self._data.append(e) # add element to end of queue\n",
        "\n",
        "    def dequeue(self):\n",
        "        #TODO: implement this function\n",
        "        if self.is_empty():\n",
        "          raise ValueError(\"the queue is empty\")\n",
        "        return self._data.popleft() #return and remove queue's first element\n",
        "\n",
        "q = Queue()\n",
        "for i in range(10):\n",
        "  q.enqueue(i)\n",
        "while not q.is_empty():\n",
        "  print(q.dequeue())"
      ],
      "metadata": {
        "id": "2ZJmAwUqbJwU",
        "colab": {
          "base_uri": "https://localhost:8080/"
        },
        "outputId": "ee4ad5bd-c85b-4dd3-fcea-c82c38594aec"
      },
      "execution_count": null,
      "outputs": [
        {
          "output_type": "stream",
          "name": "stdout",
          "text": [
            "0\n",
            "1\n",
            "2\n",
            "3\n",
            "4\n",
            "5\n",
            "6\n",
            "7\n",
            "8\n",
            "9\n"
          ]
        }
      ]
    },
    {
      "cell_type": "markdown",
      "source": [
        "3. Suppose you have a deque $D$ containing the numbers $(1,2,\\ldots,8)$ in this order. Suppose further that you have an initially empty queue $Q$. Give a code fragment that uses only $D$ and $Q$ (and no other variables) and results in $D$ storing the elements in the order $(8, 7, \\ldots, 1)$."
      ],
      "metadata": {
        "id": "yAm3upbYciU3"
      }
    },
    {
      "cell_type": "code",
      "source": [
        "from collections import deque\n",
        "\n",
        "def Question3():\n",
        "  # Create a deque with the given numbers\n",
        "  D = deque([1, 2, 3, 4, 5, 6, 7, 8])\n",
        "  Q = deque() # initialize empty queue\n",
        "\n",
        "  #TODO: implement this function\n",
        "  for _ in range(len(D)):\n",
        "    Q.append(D.popleft()) # transfer elements from deque to queue in reverse order\n",
        "\n",
        "  while Q:\n",
        "    D.appendleft(Q.popleft()) # transfer elements from queue back to deque\n",
        "\n",
        "  # Print the rearranged deque and the queue\n",
        "  print(\"D:\", list(D))\n",
        "\n",
        "Question3()"
      ],
      "metadata": {
        "id": "tE3hxbAqcuv4",
        "colab": {
          "base_uri": "https://localhost:8080/"
        },
        "outputId": "4a82b154-cb93-423a-cdd9-f997e9614547"
      },
      "execution_count": null,
      "outputs": [
        {
          "output_type": "stream",
          "name": "stdout",
          "text": [
            "D: [8, 7, 6, 5, 4, 3, 2, 1]\n"
          ]
        }
      ]
    },
    {
      "cell_type": "markdown",
      "source": [
        "4. Postfix notation is an unambiguous way of writing an arithmetic expression without parentheses. It is defined so that if $(exp_1) \\textbf{ op } (exp_2)$ is a normal, fully parenthesized expression whose operation is $\\textbf{op}$, the postfix version of this is $(pexp_1)~(pexp_2) \\textbf{ op } $, where $(pexp_1)$ is the postfix version of $(exp_1)$ and $(pexp_2)$ is the postfix version of $(exp_2)$. The postfix version of a single number or variable is just that number or variable. For example, the postfix version of ((5 + 2) * (8 - 3))/4 is 5 2 + 8 3 - * 4 /.\n",
        "\n",
        "  Develop a function to evaluate a postfix expression."
      ],
      "metadata": {
        "id": "62TvBzM7gnDz"
      }
    },
    {
      "cell_type": "code",
      "source": [
        "def evaluate_postfix(expression):\n",
        "  #TODO: implement this function\n",
        "  stack = [] # initialize empty stack for storing operands\n",
        "  operators = set(['+', '-', '*', '/']) # define set of operands\n",
        "\n",
        "  def apply_operator(op, operand2, operand1): # helper function for performing operations\n",
        "    if op == '+':\n",
        "      return operand1 + operand2 # addition\n",
        "    elif op == '-':\n",
        "      return operand1 - operand2 # subtraction\n",
        "    elif op == '*':\n",
        "      return operand1 * operand2 # multiplication\n",
        "    elif op == '/':\n",
        "      return operand1 / operand2 # division\n",
        "\n",
        "  tokens = expression.split() # split expression into tokens\n",
        "\n",
        "  for token in tokens:\n",
        "    if token not in operators: # checks if token is not an operator: then it is an operand and gets converted to float pushed onto stack\n",
        "      stack.append(float(token))\n",
        "    else:\n",
        "      operand2 = stack.pop() # otherwise token is operator: pops 2 operands from stack, performs operation, and result is pushed back onto stack\n",
        "      operand1 = stack.pop()\n",
        "      result = apply_operator(token, operand2, operand1)\n",
        "      stack.append(result)\n",
        "\n",
        "  return stack.pop() # final result on stack\n",
        "\n",
        "# Example usage\n",
        "postfix_expr = \"5 2 + 8 3 - * 4 /\"\n",
        "result = evaluate_postfix(postfix_expr)\n",
        "print(\"Result:\", result)"
      ],
      "metadata": {
        "id": "lODQw2w0-BVO",
        "colab": {
          "base_uri": "https://localhost:8080/"
        },
        "outputId": "7ec65b85-93a5-4b61-ece2-37379feffc38"
      },
      "execution_count": null,
      "outputs": [
        {
          "output_type": "stream",
          "name": "stdout",
          "text": [
            "Result: 8.75\n"
          ]
        }
      ]
    },
    {
      "cell_type": "markdown",
      "source": [
        "5. Describe how to implement the queue ADT using two stacks as instance variables, such that all queue operations execute in amortized $O(1)$\n",
        " time."
      ],
      "metadata": {
        "id": "VF2zju-3CU2R"
      }
    },
    {
      "cell_type": "code",
      "source": [
        "class QueueUsingStacks:\n",
        "    def __init__(self):\n",
        "        self.stackIn = Stack() # stack for unqueue ops\n",
        "        self.stackOut = Stack() # stack for deque ops\n",
        "\n",
        "    def enqueue(self, item):\n",
        "        #TODO: implement this function\n",
        "        self.stackIn.push(item) # push item onto stackIn\n",
        "\n",
        "    def dequeue(self):\n",
        "        #TODO: implement this function\n",
        "        if self.stackOut.is_empty(): # checks if stackOut is empty\n",
        "          while not self.stackIn.is_empty(): # pops all elements from stackIn and pushes onto stackOut\n",
        "            self.stackOut.push(self.stackIn.pop())\n",
        "        return self.stackOut.pop() # pops from stackOut\n",
        "\n",
        "# Example Usage\n",
        "queue = QueueUsingStacks()\n",
        "queue.enqueue(1)\n",
        "queue.enqueue(2)\n",
        "queue.enqueue(3)\n",
        "\n",
        "print(queue.dequeue())  # Should print 1\n",
        "print(queue.dequeue())  # Should print 2\n",
        "queue.enqueue(4)\n",
        "print(queue.dequeue())  # Should print 3\n",
        "print(queue.dequeue())  # Should print 4"
      ],
      "metadata": {
        "id": "3crTZy8ACnoe",
        "colab": {
          "base_uri": "https://localhost:8080/"
        },
        "outputId": "e1ff46ee-9866-410f-80f1-51dd047c70b1"
      },
      "execution_count": null,
      "outputs": [
        {
          "output_type": "stream",
          "name": "stdout",
          "text": [
            "1\n",
            "2\n",
            "3\n",
            "4\n"
          ]
        }
      ]
    },
    {
      "cell_type": "markdown",
      "source": [
        "  Give a formal proof of the amortized bound."
      ],
      "metadata": {
        "id": "Jxu3M7FTCrns"
      }
    },
    {
      "cell_type": "markdown",
      "source": [
        "> **Answer**:\n",
        "\n",
        "Assume n is the size of the input queue. For the enqueue operation, pushing an item onto stackIn takes O(1) time in the worst case. This is because there are no loops/iterations in this operation and each step is constant time, so the total/worst case complexity for enqueue is O(1).\n",
        "\n",
        "For dequeue operation it checks if the stackOut is empty, and if it is not then it pops elements (if non-empty, just pop 1 element at a time) from it which takes O(1) time. If it is empty, then everything from stackIn needs to be transferred to stackOut. This requires two \"momevements\" of the elements: one for moving them out from stackIn to stackOut, and the other for stackOut to return as the dequeued item. There are n elements, so the total/worst time complexity for dequeue is O(n).\n",
        "\n",
        "The worst case scenario, however, will only happen once for every n enqueue operations. Because we are checking first to see if stackOut is empty or not, the dequeue operation is not acutally costly unless stackOut is empty. In other words, the probability of the worst case scenario happening is 1/n. Even though O(n) happens once every n enqueue operations, O(n) * 1/n will equal to O(1). So the amortized time complexity for each dequeue operation is also O(1).\n"
      ],
      "metadata": {
        "id": "-cz2hOp_CsmP"
      }
    },
    {
      "cell_type": "markdown",
      "source": [
        "6. Give a complete ArrayDeque implementation of the double-ended queue ADT as in \"Implementation with ArrayQueue\"."
      ],
      "metadata": {
        "id": "uAnMPp3feBfz"
      }
    },
    {
      "cell_type": "code",
      "source": [
        "# Do not change the code here\n",
        "class ArrayQueue:\n",
        "    \"\"\"FIFO queue implementation using a Python list as underlying storage.\"\"\"\n",
        "    DEFAULT_CAPACITY = 10          # moderate capacity for all new queues\n",
        "\n",
        "    def __init__(self):\n",
        "        \"\"\"Create an empty queue.\"\"\"\n",
        "        self._data = [None] * ArrayQueue.DEFAULT_CAPACITY\n",
        "        self._size = 0\n",
        "        self._front = 0\n",
        "\n",
        "    def __len__(self):\n",
        "        \"\"\"Return the number of elements in the queue.\"\"\"\n",
        "        return self._size\n",
        "\n",
        "    def is_empty(self):\n",
        "        \"\"\"Return True if the queue is empty.\"\"\"\n",
        "        return self._size == 0\n",
        "\n",
        "    def first(self):\n",
        "        \"\"\"Return (but do not remove) the element at the front of the queue.\n",
        "\n",
        "        Raise Empty exception if the queue is empty.\n",
        "        \"\"\"\n",
        "        if self.is_empty():\n",
        "            raise Empty('Queue is empty')\n",
        "        return self._data[self._front]\n",
        "\n",
        "    def dequeue(self):\n",
        "        \"\"\"Remove and return the first element of the queue (i.e., FIFO).\n",
        "\n",
        "        Raise Empty exception if the queue is empty.\n",
        "        \"\"\"\n",
        "        if self.is_empty():\n",
        "            raise Empty('Queue is empty')\n",
        "        answer = self._data[self._front]\n",
        "        self._data[self._front] = None         # help garbage collection\n",
        "        self._front = (self._front + 1) % len(self._data)\n",
        "        self._size -= 1\n",
        "        return answer\n",
        "\n",
        "    def enqueue(self, e):\n",
        "        \"\"\"Add an element to the back of queue.\"\"\"\n",
        "        if self._size == len(self._data):\n",
        "            self._resize(2 * len(self.data))   # double the array size\n",
        "        avail = (self._front + self._size) % len(self._data)\n",
        "        self._data[avail] = e\n",
        "        self._size += 1\n",
        "\n",
        "    def _resize(self, cap):                    # we assume cap >= len(self)\n",
        "        \"\"\"Resize to a new list of capacity >= len(self).\"\"\"\n",
        "        old = self._data                       # keep track of existing list\n",
        "        self._data = [None] * cap              # allocate list with new capacity\n",
        "        walk = self._front\n",
        "        for k in range(self._size):            # only consider existing elements\n",
        "            self._data[k] = old[walk]          # intentionally shift indices\n",
        "            walk = (1 + walk) % len(old)       # use old size as modulus\n",
        "        self._front = 0                            # front of queue has been realigned"
      ],
      "metadata": {
        "id": "6mvjwfBQeann"
      },
      "execution_count": null,
      "outputs": []
    },
    {
      "cell_type": "code",
      "source": [
        "class Empty(Exception):\n",
        "    \"\"\"Error attempting to access an element from an empty container.\"\"\"\n",
        "    pass\n",
        "\n",
        "class ArrayDeque(ArrayQueue):\n",
        "    \"\"\"Double-ended queue implementation using a Python list as underlying storage.\"\"\"\n",
        "\n",
        "    def last(self):\n",
        "        \"\"\"Return (but do not remove) the element at the back of the deque.\"\"\"\n",
        "        if self.is_empty():\n",
        "            raise Empty(\"Deque is empty\")\n",
        "        back = (self._front + self._size - 1) % len(self._data)\n",
        "        return self._data[back]\n",
        "\n",
        "    def delete_first(self):\n",
        "        return self.dequeue()\n",
        "\n",
        "    def add_last(self, e):\n",
        "        self.enqueue(e)\n",
        "\n",
        "    def delete_last(self):\n",
        "        \"\"\"Remove and return the element from the back of the deque.\"\"\"\n",
        "        #TODO: implement this function\n",
        "        if self.is_empty():\n",
        "          raise Empty(\"Deque is empty.\")\n",
        "        back = (self._front + self._size - 1) % len(self._data) # find the last element's index in the deque\n",
        "        last_element = self._data[back] # gets last element from deque\n",
        "        self._data[back] = None # removes last element by setting it's position to None\n",
        "        self._size -= 1 # decrease size of deque by 1\n",
        "        return last_element # returns the last element that got removed\n",
        "\n",
        "    def add_first(self, e):\n",
        "        \"\"\"Add an element to the front of the deque.\"\"\"\n",
        "        #TODO: implement this function\n",
        "        if self._size == len(self._data): # check if deque is full\n",
        "          self._resize(2 * len(self.data)) # if it is full, resizes by doubling array size\n",
        "        self._front = (self._front - 1) % len(self._data) # update front index to new front position\n",
        "        self._data[self._front] = e # add new element to front of deque\n",
        "        self._size += 1 # increase size of deque by 1"
      ],
      "metadata": {
        "id": "-fr9Ca2BehrS"
      },
      "execution_count": null,
      "outputs": []
    },
    {
      "cell_type": "code",
      "source": [
        "# Do not change the code here\n",
        "def test_array_deque():\n",
        "    # Create a deque and test if it's initialized correctly\n",
        "    deque = ArrayDeque()\n",
        "    assert len(deque) == 0\n",
        "    assert deque.is_empty() == True\n",
        "\n",
        "    # Test adding elements to the back of the deque\n",
        "    deque.add_last(10)\n",
        "    deque.add_last(20)\n",
        "    assert len(deque) == 2\n",
        "    assert deque.first() == 10\n",
        "    assert deque.last() == 20\n",
        "\n",
        "    # Test adding elements to the front of the deque\n",
        "    deque.add_first(5)\n",
        "    assert len(deque) == 3\n",
        "    assert deque.first() == 5\n",
        "    assert deque.last() == 20\n",
        "\n",
        "    # Test removing elements from the front\n",
        "    assert deque.delete_first() == 5\n",
        "    assert len(deque) == 2\n",
        "    assert deque.first() == 10\n",
        "\n",
        "    # Test removing elements from the back\n",
        "    assert deque.delete_last() == 20\n",
        "    assert len(deque) == 1\n",
        "    assert deque.last() == 10\n",
        "\n",
        "    # Test operations on an empty deque\n",
        "    deque.delete_last()  # Now the deque is empty\n",
        "    try:\n",
        "        deque.delete_last()\n",
        "        assert False, \"Expected an Empty exception\"\n",
        "    except Empty:\n",
        "        assert True\n",
        "\n",
        "    try:\n",
        "        deque.delete_first()\n",
        "        assert False, \"Expected an Empty exception\"\n",
        "    except Empty:\n",
        "        assert True\n",
        "\n",
        "    try:\n",
        "        deque.first()\n",
        "        assert False, \"Expected an Empty exception\"\n",
        "    except Empty:\n",
        "        assert True\n",
        "\n",
        "    try:\n",
        "        deque.last()\n",
        "        assert False, \"Expected an Empty exception\"\n",
        "    except Empty:\n",
        "        assert True\n",
        "\n",
        "    print(\"All tests passed!\")\n",
        "\n",
        "# Run the test\n",
        "test_array_deque()"
      ],
      "metadata": {
        "id": "FWYiQJPyfDUm",
        "colab": {
          "base_uri": "https://localhost:8080/"
        },
        "outputId": "9e5af827-0c43-412d-ae4c-ecdb846f80a4"
      },
      "execution_count": null,
      "outputs": [
        {
          "output_type": "stream",
          "name": "stdout",
          "text": [
            "All tests passed!\n"
          ]
        }
      ]
    },
    {
      "cell_type": "markdown",
      "source": [
        "7. Given an array of integers nums and an integer k, where k is less than or equal to the length of the array, your task is to find the maximum element in each sliding window of size k as it moves from left to right through the array. The sliding window moves one position at a time.\n",
        "\n",
        "  Example:\n",
        "\n",
        "  * Input: nums = [1, 3, -1, -3, 5, 3, 6, 7], k = 3\n",
        "\n",
        "  * Output: [3, 3, 5, 5, 6, 7]\n",
        "\n",
        "  Explanation:\n",
        "\n",
        "  * Window position 1: [1, 3, -1], max = 3\n",
        "\n",
        "  * Window position 2: [3, -1, -3], max = 3\n",
        "\n",
        "  * Window position 3: [-1, -3, 5], max = 5\n",
        "\n",
        "  * Window position 4: [-3, 5, 3], max = 5\n",
        "\n",
        "  * Window position 5: [5, 3, 6], max = 6\n",
        "\n",
        "  * Window position 6: [3, 6, 7], max = 7"
      ],
      "metadata": {
        "id": "NdahC-v6DJaa"
      }
    },
    {
      "cell_type": "code",
      "source": [
        "from collections import deque\n",
        "\n",
        "def maxSlidingWindow(nums, k):\n",
        "    #TODO: implement this function\n",
        "    if not nums:\n",
        "      return [] # return an empty list if nums is empty\n",
        "\n",
        "    result = [] # empty list to store max. elements in each sliding window\n",
        "    window = deque() # deque to store indices of elements in current window\n",
        "\n",
        "    for i in range(len(nums)): # iterate through indices of list\n",
        "      while window and window[0] < i - k + 1:\n",
        "        window.popleft() # remove indices less than i - k + 1 (elements outside of current window)\n",
        "\n",
        "      while window and nums[i] >= nums[window[-1]]:\n",
        "        window.pop() # remove indices from end of window that are smaller than current index/element (nums[i])\n",
        "\n",
        "      window.append(i) # adds current index to window\n",
        "\n",
        "      if i >= k - 1:\n",
        "        result.append(nums[window[0]]) # when window size = k, append the max. element in window to the result\n",
        "\n",
        "    return result # returns list containing the max. elements in each sliding window\n",
        "\n",
        "# Example Usage\n",
        "nums = [1, 3, -1, -3, 5, 3, 6, 7]\n",
        "k = 3 # compares three elements at a time from left to right in a single window, so window size = 3\n",
        "print(maxSlidingWindow(nums, k))"
      ],
      "metadata": {
        "id": "dvjQmUU2DoPG",
        "colab": {
          "base_uri": "https://localhost:8080/"
        },
        "outputId": "b46d1789-e8fa-471b-c103-761be72ba2e8"
      },
      "execution_count": null,
      "outputs": [
        {
          "output_type": "stream",
          "name": "stdout",
          "text": [
            "[3, 3, 5, 5, 6, 7]\n"
          ]
        }
      ]
    }
  ]
}