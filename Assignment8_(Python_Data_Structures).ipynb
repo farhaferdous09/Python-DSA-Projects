{
  "nbformat": 4,
  "nbformat_minor": 0,
  "metadata": {
    "colab": {
      "provenance": []
    },
    "kernelspec": {
      "name": "python3",
      "display_name": "Python 3"
    },
    "language_info": {
      "name": "python"
    }
  },
  "cells": [
    {
      "cell_type": "markdown",
      "source": [
        "1. Suppose we are given two $n$-element sorted sequences $A$ and $B$ each with distinct elements, but potentially some elements that are in both sequences. Describe an $O(n)$-time method for computing a sequence representing the union\n",
        " (with no duplicates) as a sorted sequence."
      ],
      "metadata": {
        "id": "Z6J9WdctOwMX"
      }
    },
    {
      "cell_type": "code",
      "source": [
        "def union_sorted_sequences(A, B):\n",
        "    #TODO: implement this function\n",
        "    i = 0 # pointer for sequence A\n",
        "    j = 0 # pointer for sequence B\n",
        "\n",
        "    union = []  # initialize empty list to store the union of A and B\n",
        "\n",
        "    ''' iterate through both sequences until pointers reach end of each one '''\n",
        "    while i < len(A) or j < len(B): # iterates until pointers have reached end of A and B\n",
        "      if j == len(B) or (i < len(A) and A[i] < B[j]): # if pointer j has reached the end of sequence B or the element at A[i] is smaller than element at B[j]\n",
        "        ''' append element from A to the union '''\n",
        "        if not union or A[i] != union[-1]:  # if union list is empty or current element of A is different from the last element in the union list\n",
        "          union.append(A[i])  # append the current element of A the union list\n",
        "        i += 1  # move pointer i to the next element in sequence A\n",
        "      elif i == len(A) or (j < len(B) and A[i] > B[j]): # if pointer i has reached end of sequence A or the element B[j] is smaller than element at A[i]\n",
        "        ''' append element from B to the union '''\n",
        "        if not union or B[j] != union[-1]:  # if union list is empty or the current element of B is different from last element in the union list\n",
        "          union.append(B[j])  # append the current element of B to the union list\n",
        "        j += 1  # move pointer j to the next element in sequence B\n",
        "      else: # if elements at positions i in A and j in B are equal\n",
        "        ''' append one of the equal elements to the union '''\n",
        "        if not union or A[i] != union[-1]:  # if the union list is empty or the current element of A is different from the last element in the union list\n",
        "          union.append(A[i])  # append the current element of A to the union list\n",
        "        i += 1  # move pointer i to the next element in A\n",
        "        j += 1  # move pointer j to the next element in B\n",
        "\n",
        "    return union  # return the sorted union of sequences A and B"
      ],
      "metadata": {
        "id": "YTXEU0DHO5yd"
      },
      "execution_count": null,
      "outputs": []
    },
    {
      "cell_type": "code",
      "source": [
        "# Test code\n",
        "A = [0, 1, 3, 5, 7, 9]\n",
        "B = [0, 2, 4, 6, 8, 9]\n",
        "C = union_sorted_sequences(A, B)\n",
        "print(C)"
      ],
      "metadata": {
        "id": "RIUCezOvO87X",
        "colab": {
          "base_uri": "https://localhost:8080/"
        },
        "outputId": "f79b1a33-6b2a-4df6-a08c-df5966cdcf71"
      },
      "execution_count": null,
      "outputs": [
        {
          "output_type": "stream",
          "name": "stdout",
          "text": [
            "[0, 1, 2, 3, 4, 5, 6, 7, 8, 9]\n"
          ]
        }
      ]
    },
    {
      "cell_type": "markdown",
      "source": [
        "2. Given a sequence $S$ of $n$ values, each equal to 0 or 1, implement an in-place method for sorting $S$ with an $O(n)$ time complexity."
      ],
      "metadata": {
        "id": "iApP-drwh0Ij"
      }
    },
    {
      "cell_type": "code",
      "source": [
        "def sort_binary_sequence(S):\n",
        "    #TODO: implement this function\n",
        "    left = 0  # initialize left pointer at the beginning of the sequence\n",
        "    right = len(S) - 1  # initialize right pointer at the end of the sequence\n",
        "\n",
        "    ''' makes sure left pointer crosses or reaches right pointer '''\n",
        "    ''' makes sure all 0s are on the left side of sequence and all 1s are on the right side '''\n",
        "    while left < right: # iterates until left pointer crosses or reaches right pointer\n",
        "      while S[left] == 0 and left < right:  # moves left pointer until it points to a 1 or until it crosses the right pointer\n",
        "        left +=1                            # ensures that the left pointer stops at the first occurrence of 1 encountered from the left side of sequence\n",
        "\n",
        "      while S[right] == 1 and left < right: # moves right pointer until it points to 0 or until it crosses the left pointer\n",
        "        right -= 1                          # ensures that right pointer stops at first occurrence of 0 encountered from right side of sequence\n",
        "      ''' checks left pointer is still left of right pointer '''\n",
        "      if left < right:  # swaps of left pointer is still left of right pointer\n",
        "        S[left], S[right] = S[right], S[left] # swap elements at left and right pointers\n",
        "        left += 1 # move left pointer to the right\n",
        "        right -= 1  # move right pointer to the left\n",
        "    return S  # return sorted sequence"
      ],
      "metadata": {
        "id": "ZtjuTFQAh79R"
      },
      "execution_count": null,
      "outputs": []
    },
    {
      "cell_type": "code",
      "source": [
        "# Test code\n",
        "test_sequences = [\n",
        "    [0, 1, 0, 1, 1, 0, 0, 1],\n",
        "    [1, 0, 1, 0, 1, 0, 1, 0],\n",
        "    [0, 0, 0, 0, 1, 1, 1, 1],\n",
        "    [1, 1, 1, 1, 0, 0, 0, 0],\n",
        "    [0, 1, 1, 0, 0, 1, 0, 1]\n",
        "]\n",
        "\n",
        "sorted_sequences = [sort_binary_sequence(seq) for seq in test_sequences]\n",
        "print(sorted_sequences)"
      ],
      "metadata": {
        "id": "fMFP3Fl7iViN",
        "colab": {
          "base_uri": "https://localhost:8080/"
        },
        "outputId": "846b5cac-cbf7-49fb-a825-8dfabff9711d"
      },
      "execution_count": null,
      "outputs": [
        {
          "output_type": "stream",
          "name": "stdout",
          "text": [
            "[[0, 0, 0, 0, 1, 1, 1, 1], [0, 0, 0, 0, 1, 1, 1, 1], [0, 0, 0, 0, 1, 1, 1, 1], [0, 0, 0, 0, 1, 1, 1, 1], [0, 0, 0, 0, 1, 1, 1, 1]]\n"
          ]
        }
      ]
    },
    {
      "cell_type": "markdown",
      "source": [
        "3. Suppose we are given an $n$-element sequence $S$ such that each element in\n",
        " represents a different vote for president, where each vote is given as an integer representing a particular candidate, yet the integers may be arbitrarily large (even if the number of candidates is not). Design an $O(n\\log n)$-time algorithm to see who wins the election $S$ represents, assuming the candidate with the most votes wins."
      ],
      "metadata": {
        "id": "Csg4dB3plAcZ"
      }
    },
    {
      "cell_type": "code",
      "source": [
        "def find_election_winner(S):\n",
        "    #TODO: implement this function\n",
        "    countVotes = {} # creates dictionary storing count of votes for each candidate\n",
        "\n",
        "    for vote in S:  # iterates through votes and count and votes for each candidate\n",
        "      if vote in countVotes:  # if candidate's vote already in dictionary\n",
        "        countVotes[vote] += 1 # increment count\n",
        "      else:\n",
        "        countVotes[vote] = 1  # intiailize count to 1 if candidate's vote is not in the dictionary\n",
        "\n",
        "    winner = max(countVotes, key=countVotes.get)  # find candidate with the maximum number of votes\n",
        "\n",
        "    votesReceived = countVotes[winner]  # get number of votes received by the winner\n",
        "\n",
        "    return winner, votesReceived  # return winner and the number of votes received by winner\n"
      ],
      "metadata": {
        "id": "TK3yMxSzlHrE"
      },
      "execution_count": null,
      "outputs": []
    },
    {
      "cell_type": "code",
      "source": [
        "# Test code\n",
        "votes = [3, 1, 4, 1, 5, 9, 2, 6, 5, 3, 5, 5]\n",
        "winner, votes_received = find_election_winner(votes)\n",
        "print(winner, votes_received) # shoud output 5 4"
      ],
      "metadata": {
        "colab": {
          "base_uri": "https://localhost:8080/"
        },
        "id": "hZgMrv8ulmEX",
        "outputId": "acd1531f-c6ea-4c25-c318-98bbb615eda1"
      },
      "execution_count": null,
      "outputs": [
        {
          "output_type": "stream",
          "name": "stdout",
          "text": [
            "5 4\n"
          ]
        }
      ]
    },
    {
      "cell_type": "markdown",
      "source": [
        "4. Consider the voting problem above, but now suppose the integers $1$\n",
        " to $k$ are used to identify $k<n$ candidates. Design an $O(n)$-time algorithm to determine who wins the election."
      ],
      "metadata": {
        "id": "CqGPoM8xlrNI"
      }
    },
    {
      "cell_type": "code",
      "source": [
        "def find_election_winner2(S, k):\n",
        "    #TODO: implement this function\n",
        "    countVotes = [0] * (k + 1)  # initializes an array to store the count of votes for each candidate\n",
        "                                # index 0 is not used, so k + 1 elements\n",
        "\n",
        "    for vote in S:  # iterate through votes\n",
        "      countVotes[vote] += 1 # count votes for each candidate\n",
        "\n",
        "    ''' initializes variables to keep track of the candidate with the maximum votes and the maximum votes count '''\n",
        "    maxVotes = 0  # variable to store max votes count\n",
        "    winner = 0  # variable to store candidate with max votes\n",
        "    for candidate in range(1, k + 1): # iterate through each candidate to find the one with the max votes\n",
        "      if countVotes[candidate] > maxVotes:  # checks if current candidate has more votes than current max\n",
        "        maxVotes = countVotes[candidate]  # updates max votes count and the winning candidate\n",
        "        winner = candidate\n",
        "\n",
        "    return winner, maxVotes # returns winning candidate and max votes count"
      ],
      "metadata": {
        "id": "_Ez5SBJdlug8"
      },
      "execution_count": null,
      "outputs": []
    },
    {
      "cell_type": "code",
      "source": [
        "# Sample sequence of votes and number of candidates\n",
        "S = [1, 3, 2, 3, 4, 3, 2, 1, 3, 3, 2]\n",
        "k = 4  # Number of candidates\n",
        "\n",
        "# Test the algorithm\n",
        "print(find_election_winner2(S, k)) # should output 3 5"
      ],
      "metadata": {
        "colab": {
          "base_uri": "https://localhost:8080/"
        },
        "id": "xiD7lc-8mRGM",
        "outputId": "b4241112-d56c-4a22-a556-5f9a726ba39f"
      },
      "execution_count": null,
      "outputs": [
        {
          "output_type": "stream",
          "name": "stdout",
          "text": [
            "(3, 5)\n"
          ]
        }
      ]
    },
    {
      "cell_type": "markdown",
      "source": [
        "5. Given an array $A$ of $n$ integers in the range $[0, n^2-1]$, describe a simple method for sorting $A$ in $O(n)$ time."
      ],
      "metadata": {
        "id": "6kBG9T1u5fEx"
      }
    },
    {
      "cell_type": "code",
      "source": [
        "def radix_sort(arr, n):\n",
        "    #TODO: implement this function\n",
        "    ''' define inner function for counting sort '''\n",
        "    def countingSort(arr, exp): # initialize variables\n",
        "      n = len(arr)  # length of array\n",
        "      output = [0] * n  # output array to store sorted elements\n",
        "      count = [0] * 10  # count array for digits 0 to 9\n",
        "\n",
        "      for i in range(n):  # count occurrences of digits at position exp\n",
        "        index = arr[i] // exp # calculates index based on current exponent\n",
        "        count[index % 10] += 1  # increments count for the corresponding digit\n",
        "\n",
        "      for i in range(1, 10):  # updates count array to store the actual position of digits\n",
        "        count[i] += count[i - 1]\n",
        "\n",
        "      i = n - 1 # build output array\n",
        "      while i >= 0:\n",
        "        index = arr[i] // exp # calculates index based on current exponent\n",
        "        output[count[index % 10] - 1] = arr[i]  # places element at its correct position in output array\n",
        "        count[index % 10] -= 1  # decrements the count for the corresponding digit\n",
        "        i -= 1\n",
        "\n",
        "      for i in range(n):  # copy sorted elements to the original array\n",
        "        arr[i] = output[i]\n",
        "\n",
        "    maxElement = max(arr) # find max element in the array\n",
        "    exp = 1 # initializes exponent for least significant digit\n",
        "    while maxElement // exp > 0:  # performs counting sort for every digit, dtarting from least significant digit\n",
        "      countingSort(arr, exp)  # call countingSort function for the current exponent\n",
        "      exp *= 10 # moves to the next significant digit\n"
      ],
      "metadata": {
        "id": "nZhVir6q5fU3"
      },
      "execution_count": null,
      "outputs": []
    },
    {
      "cell_type": "code",
      "source": [
        "# Test code\n",
        "\n",
        "n = 10  # Example n\n",
        "arr = [9, 18, 72, 23, 0, 94, 40, 12, 59, 83]\n",
        "print(\"Original array:\", arr)\n",
        "radix_sort(arr, n)\n",
        "print(\"Sorted array:\", arr)"
      ],
      "metadata": {
        "colab": {
          "base_uri": "https://localhost:8080/"
        },
        "id": "hThbiUYF5g5Q",
        "outputId": "c99e1f94-0e19-4951-f499-5b1f9f2f7638"
      },
      "execution_count": null,
      "outputs": [
        {
          "output_type": "stream",
          "name": "stdout",
          "text": [
            "Original array: [9, 18, 72, 23, 0, 94, 40, 12, 59, 83]\n",
            "Sorted array: [0, 9, 12, 18, 23, 40, 59, 72, 83, 94]\n"
          ]
        }
      ]
    },
    {
      "cell_type": "markdown",
      "source": [
        "6. Given $n$ points on a 2D plane where points[i] = [$x_i$, $y_i$], Return the widest vertical area between two points such that no points are inside the area.\n",
        "\n",
        "  A vertical area is an area of fixed-width extending infinitely along the y-axis (i.e., infinite height). The widest vertical area is the one with the maximum width.\n",
        "\n",
        "  Note that points on the edge of a vertical area are not considered included in the area.\n",
        "\n",
        "  **Example 1**:\n",
        "\n",
        "  ![image.png](data:image/png;base64,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)\n",
        "\n",
        "  Input: points = [[8,7],[9,9],[7,4],[9,7]]\n",
        "\n",
        "  Output: 1\n",
        "\n",
        "  Explanation: Both the red and the blue area are optimal.\n",
        "\n",
        "  **Example 2**:\n",
        "\n",
        "  Input: points = [[3,1],[9,0],[1,0],[1,4],[5,3],[8,8]]\n",
        "\n",
        "  Output: 3"
      ],
      "metadata": {
        "id": "RX-YLLT7eS2n"
      }
    },
    {
      "cell_type": "code",
      "source": [
        "def maxWidthOfVerticalArea(points):\n",
        "    #TODO: implement this function\n",
        "    points.sort() # sorts the points based on their x-coordinates\n",
        "    maxWidth = 0  # initializes the max width to 0\n",
        "\n",
        "    for i in range(1, len(points)): # iterates through sorted points and calculates max width\n",
        "      width = points[i][0] - points[i-1][0] # calculates width between two consecutive x-coordinates\n",
        "      maxWidth = max(maxWidth, width) # updates max width if the current width is greater\n",
        "    return maxWidth # return max width"
      ],
      "metadata": {
        "id": "C2qNHh7ifIC0"
      },
      "execution_count": null,
      "outputs": []
    },
    {
      "cell_type": "code",
      "source": [
        "# Test the function with the given examples\n",
        "test_cases = [\n",
        "    ([[8,7],[9,9],[7,4],[9,7]], 1),\n",
        "    ([[3,1],[9,0],[1,0],[1,4],[5,3],[8,8]], 3)\n",
        "]\n",
        "\n",
        "results = [maxWidthOfVerticalArea(tc[0]) == tc[1] for tc in test_cases]\n",
        "print(results)"
      ],
      "metadata": {
        "id": "mv_HxK8wfJdK",
        "colab": {
          "base_uri": "https://localhost:8080/"
        },
        "outputId": "d1247776-2221-4806-a555-57f5f509d774"
      },
      "execution_count": null,
      "outputs": [
        {
          "output_type": "stream",
          "name": "stdout",
          "text": [
            "[True, True]\n"
          ]
        }
      ]
    },
    {
      "cell_type": "markdown",
      "source": [
        "7. Given an unsorted sequence $S$ of $n$ comparable elements, and an integer $k$, give an $O(n\\log k)$ expected-time algorithm for finding the $O(k)$ elements that have rank $\\lceil n/k\\rceil$, $\\lceil 2n/k\\rceil$, $\\lceil 3n/k\\rceil$, and so on."
      ],
      "metadata": {
        "id": "Y7SoJeqsndXU"
      }
    },
    {
      "cell_type": "code",
      "source": [
        "def find_elements_with_rank(lst, k):\n",
        "    \"\"\"\n",
        "    Find elements that have rank n/k, 2n/k, 3n/k, ...\n",
        "    \"\"\"\n",
        "    #TODO: implement this function\n",
        "    n = len(lst)  # get length of input list\n",
        "    rankElements = [] # initializes an empty list to store elements with desired ranks\n",
        "\n",
        "    ''' define partition function for quickselect '''\n",
        "    def partition(arr, low, high):\n",
        "      pivot = arr[high] # choose pivot element as the last element of the array\n",
        "      i = low - 1\n",
        "      for j in range(low, high):  # iterate thru the array from low to high - 1\n",
        "        if arr[j] <= pivot: # if current element is less than or equal to pivot\n",
        "          i += 1\n",
        "          arr[i], arr[j] = arr[j], arr[i] # swap it with element at index i\n",
        "      arr[i + 1], arr[high] = arr[high], arr[i + 1] # sq+wap pivot element with element at index i + 1\n",
        "      return i + 1\n",
        "\n",
        "    ''' define function for finding element with a given rank '''\n",
        "    def quickSelect(arr, low, high, k):\n",
        "      if low >= high: # if low is greater than high\n",
        "        return arr[low]  # array is empty or has only one element\n",
        "      pivot_index = partition(arr, low, high) # partition array and get pivot index\n",
        "      if pivot_index == k:  # if pivot index is equal to desired rank\n",
        "        return arr[k] # return element at that index\n",
        "      elif pivot_index < k: # if pivot in less than desired rank\n",
        "        return quickSelect(arr, pivot_index + 1, high, k) # search in the right subarray\n",
        "      else: # if pivot index is greater than desired rank\n",
        "        return quickSelect(arr, low, pivot_index - 1, k)  # search in left subarray\n",
        "\n",
        "    for i in range(1, k + 1): # iterate over range from 1 to k (inclusive)\n",
        "      rank = ((i * n) + k - 1) // k - 1 # calculate rank for current iteration\n",
        "      element = quickSelect(lst, 0, n - 1, rank)  # find element with calculated rank using quickselect\n",
        "      rankElements.append(element)  # append it to the list\n",
        "\n",
        "    return rankElements # return list of elements with desired ranks\n",
        "\n"
      ],
      "metadata": {
        "id": "AahNAY2XAr8n"
      },
      "execution_count": null,
      "outputs": []
    },
    {
      "cell_type": "code",
      "source": [
        "# Test the algorithm\n",
        "import random\n",
        "sequence = [random.randint(0, 100) for _ in range(20)]  # Example sequence\n",
        "k = 5  # Example k\n",
        "elements_with_rank = find_elements_with_rank(sequence, k)\n",
        "\n",
        "print(f\"Unsorted sequence: {sequence}\")\n",
        "print(f\"Elements with rank n/k, 2n/k, ... for k={k}: {elements_with_rank}\")"
      ],
      "metadata": {
        "colab": {
          "base_uri": "https://localhost:8080/"
        },
        "id": "wpcrCGj0AtsI",
        "outputId": "a44abe7c-2a8a-4e31-88da-b39ef2bc48ad"
      },
      "execution_count": null,
      "outputs": [
        {
          "output_type": "stream",
          "name": "stdout",
          "text": [
            "Unsorted sequence: [1, 12, 10, 14, 19, 28, 29, 34, 37, 41, 51, 55, 68, 72, 77, 80, 86, 90, 99, 100]\n",
            "Elements with rank n/k, 2n/k, ... for k=5: [14, 34, 55, 80, 100]\n"
          ]
        }
      ]
    },
    {
      "cell_type": "markdown",
      "source": [
        "8. Let $A$ and $B$ be two sequences of $n$ integers each. Given an integer $m$\n",
        ", describe an $O(n\\log n)$-time algorithm for determining if there is an integer $a$\n",
        " in $A$ and an integer $b$ in $B$ such that $m=a+b$."
      ],
      "metadata": {
        "id": "LbF77t_GDwtT"
      }
    },
    {
      "cell_type": "code",
      "source": [
        "def find_pair(A, B, m):\n",
        "    #TODO: implement this function\n",
        "    ''' sort both sequences A and B to facilitate the two pointer approach '''\n",
        "    A.sort()\n",
        "    B.sort()\n",
        "\n",
        "    ''' initialize pointers for sequences A and B '''\n",
        "    i = 0 # pointer for sequence A, starting from the beginning\n",
        "    j = len(B) - 1  # pointer for sequence B, starting from the end\n",
        "\n",
        "    while i < len(A) and j >= 0:  # iterate until pointers within bounds\n",
        "      currentSum = A[i] + B[j]  # calculate sum of elements at current positions of pointers\n",
        "\n",
        "      if currentSum == m: # if sum equals m\n",
        "        return True # return true\n",
        "      elif currentSum < m:  # if sum is less than m\n",
        "        i += 1  # moves pointer in sequence A to the right\n",
        "      else: # is sum is greater than m\n",
        "        j -= 1  # move pointer in sequence B to the left\n",
        "    return False  # if no pair is found, return false"
      ],
      "metadata": {
        "id": "dem02NveAvR8"
      },
      "execution_count": null,
      "outputs": []
    },
    {
      "cell_type": "code",
      "source": [
        "# Test the function\n",
        "A = [1, 2, 3]\n",
        "B = [4, 5, 6]\n",
        "m = 9\n",
        "\n",
        "# Test and see if it works as expected\n",
        "find_pair(A, B, m)"
      ],
      "metadata": {
        "id": "6pY08lEkFUZr",
        "colab": {
          "base_uri": "https://localhost:8080/"
        },
        "outputId": "0ffe3a63-1848-468f-b799-1e2f1d1bd083"
      },
      "execution_count": null,
      "outputs": [
        {
          "output_type": "execute_result",
          "data": {
            "text/plain": [
              "True"
            ]
          },
          "metadata": {},
          "execution_count": 40
        }
      ]
    }
  ]
}
