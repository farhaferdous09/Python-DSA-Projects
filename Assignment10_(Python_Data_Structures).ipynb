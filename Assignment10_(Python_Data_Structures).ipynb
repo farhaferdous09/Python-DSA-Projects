{
  "nbformat": 4,
  "nbformat_minor": 0,
  "metadata": {
    "colab": {
      "provenance": []
    },
    "kernelspec": {
      "name": "python3",
      "display_name": "Python 3"
    },
    "language_info": {
      "name": "python"
    }
  },
  "cells": [
    {
      "cell_type": "markdown",
      "source": [
        "* Name: &lt;**Farha Ferdous**&gt;\n",
        "\n",
        "* Student ID: &lt;**24298372**&gt;\n",
        "\n",
        "\n",
        "---\n",
        "\n"
      ],
      "metadata": {
        "id": "jp7Q_lhvA92B"
      }
    },
    {
      "cell_type": "markdown",
      "source": [
        "**Instructions**\n",
        "\n",
        "* Create a copy of this notebook (this notebook itself is set to be immutable).\n",
        "\n",
        "\n",
        "* Complete all questions below by implementing the corresponding function or class. Do not modify any existing code.\n",
        "\n",
        "* Share your notebook and paste the link to Blackboard.\n",
        "---\n",
        "\n"
      ],
      "metadata": {
        "id": "eRc6GY-2pc8M"
      }
    },
    {
      "cell_type": "markdown",
      "source": [
        "1. Consider a tree $T$ storing $n$ items. What is the worst-case height of in the following cases?\n",
        "\n",
        "  (a) $T$ is a binary search tree.\n",
        "\n",
        "  (b) $T$ is an AVL tree.\n",
        "\n",
        "  (c) $T$ is a splay tree.\n",
        "\n",
        "  (d) $T$ is a (2,4) tree.\n",
        "\n",
        "  (e) $T$ is a red-black tree."
      ],
      "metadata": {
        "id": "atsupFHDK_li"
      }
    },
    {
      "cell_type": "markdown",
      "source": [
        "> **Answer**:\n",
        "\n",
        "A. All three of the operations in BST (searching, insertion, deletion) have a worst case complexity of O(n), or O(h) where h is the height of BST. For searching, we have to traverse all elements in the tree. For insertion, we need to traverse all elements in order to insert a new element at a certain spot. For deletion, we also need to traverse through all the elements to find the certain one we want to delete. **Because we need to traverse through the tree for all BST operations, this is why the worst-case height is O(h).**\n",
        "\n",
        "B. For AVL, the difference between the height of the left sub tree and the right subtree of any node can't be more than 1. **For all three operations in AVL, the worst-case complexity is O(logn) when traversing through the tree.**\n",
        "\n",
        "C. A splay tree is a type of BST with the property that recently accessed elements are quick to access again. It has the normal operations of a BST in time O(logn), combined with the operation of splaying where the tree is rearranged so that a certain element is placed at the root of the tree. **The worst case height for splay tree is O(n), with the average being O(logn).**\n",
        "\n",
        "D. In a 2-4 tree, the nodes can have anywhere from 2 to 4 children. The tree operates as a search tree and is full at all times. In the worst case where the tree is as high as possible, all nodes are 2-nodes (which is also a binary tree). **Because the tree is height-balanced, the height of the tree is O(logn).**\n",
        "\n",
        "E. A red-black tree is also another BST where all nodes have the extra property of color. The root is black, the external nodes are dummy nodes with no elements and are black, the children of red nodes are always black, and all the external nodes have the same black depth where depth is the number of black ancestors of that node. The height of a red-black tree is O(logn). The black depth of the tree is O(logn$_b$) where n$_b$ is the number of black nodes. In the worst case, there must be a path from the root to a leaf, but since the number of black nodes on that long path is limited to O(logn$_b$), the way to make it longer is to have many red nodes. Red nodes cannot have red children, so in the worst case the number of nodes on that must path must alternate between red and black. So that path is twice as long as the black depth of the tree. **So the worst case height of the tree is O(2logn$_b$).**\n"
      ],
      "metadata": {
        "id": "7_b8RU8YLXah"
      }
    },
    {
      "cell_type": "markdown",
      "source": [
        "2. Let $T$ be a red-black tree and let $p$ be the position of the parent of the original node that is deleted by the standard search tree deletion algorithm. Prove that if $p$ has zero children, the removed node was a red leaf."
      ],
      "metadata": {
        "id": "g4lvaFTtMFSZ"
      }
    },
    {
      "cell_type": "markdown",
      "source": [
        "> **Answer**: In a red-black tree, if the parent node p of a deleted node has 0 children in a red-black tree, the deleted node must have been a red leaf. If p is red, it directly indicates that p is a red leaf since red nodes can't have children according to the property that the children of red nodes are always black. Deleting a red leaf node doesn't require restructuring the tree since red nodes don't have children. If p is black, its 0 children imply that p is a black leaf node. Deleting a black leaf node results in having to rebalance the tree. The sibling must exist and be a black leaf node, since all external nodes have the same black depth, where black depth is defined as the number of black ancestors of that node. So regardles of p's color, the deleted node is always a read leaf."
      ],
      "metadata": {
        "id": "XMLNZUxzMRLO"
      }
    },
    {
      "cell_type": "markdown",
      "source": [
        "3. Prove that a multiway search tree with $n$ item has $n+1$ external nodes."
      ],
      "metadata": {
        "id": "RFDfzUyDMbFI"
      }
    },
    {
      "cell_type": "markdown",
      "source": [
        "> **Answer**:\n",
        "\n",
        "A multiway search tree T storing n itens has n+1 external nodes. We can prove this by induction over the height of T. For the induction base: height(T)=1. We must have a single node with n items, with all subtrees of height 0. By our definition, there n+1 subtrees so there are n+1 external nodes.\n",
        "\n",
        "In a multiway search tree, each item is stored in an internal or external node. If there is only one item, there is only one external node which is the root. When we add more items, the tree grows as we either add new leaf nodes or split existing ones into internal nodes. The number of external nodes increases by one for each item added. So any multiway tree with n items will have n+1 external nodes."
      ],
      "metadata": {
        "id": "drJfMbVUM5s_"
      }
    },
    {
      "cell_type": "markdown",
      "source": [
        "4. Describe a recursive algorithm to compute the integer part of the base-two logarithm of $n$ using only addition and integer division."
      ],
      "metadata": {
        "id": "ObBtu8u4JhNL"
      }
    },
    {
      "cell_type": "code",
      "source": [
        "def log_base_two(n):\n",
        "    #TODO: implement this function\n",
        "    if n < 2: # base case\n",
        "      return 0\n",
        "    else: return 1 + log_base_two(n // 2) # for n > 2, recursively divide n by 2 using integer division until n becomes less than 2\n",
        "                                          # result is how many times n can be divided by 2 until it reaches or exceeds 1"
      ],
      "metadata": {
        "id": "X0rW8z5SJmES"
      },
      "execution_count": null,
      "outputs": []
    },
    {
      "cell_type": "code",
      "source": [
        "# Example usage\n",
        "print(log_base_two(8))  # Should return 3, because 2^3 = 8\n",
        "print(log_base_two(16)) # Should return 4, because 2^4 = 16"
      ],
      "metadata": {
        "id": "M-eoTQX5JpDd",
        "colab": {
          "base_uri": "https://localhost:8080/"
        },
        "outputId": "f223e234-921e-4877-8d25-5e583cfc2f0d"
      },
      "execution_count": null,
      "outputs": [
        {
          "output_type": "stream",
          "name": "stdout",
          "text": [
            "3\n",
            "4\n"
          ]
        }
      ]
    },
    {
      "cell_type": "markdown",
      "source": [
        "5. Recursive algorithm to compute the product of two positive integers, $m$\n",
        " and $n$, using only addition and subtraction."
      ],
      "metadata": {
        "id": "EaCyk-geJ5LA"
      }
    },
    {
      "cell_type": "code",
      "source": [
        "def recursive_multiply(m, n):\n",
        "    #TODO: implement this function\n",
        "    if n == 0:  # base case\n",
        "      return 0\n",
        "    elif n > 0:\n",
        "      return m + recursive_multiply(m, n - 1) # recursively subtract 1 from n and add m to the result each time until n becomes 0\n",
        "    elif n < 0: # if n is negative\n",
        "      return -recursive_multiply(m, -n) # recursively compute product with its absolite value and negate the result (ensures result is correct even if a number is negative)"
      ],
      "metadata": {
        "id": "Haw_eBXaJ8vT"
      },
      "execution_count": null,
      "outputs": []
    },
    {
      "cell_type": "code",
      "source": [
        "# Example usage\n",
        "print(recursive_multiply(3, 7))  # Should return 21\n",
        "print(recursive_multiply(5, 5))  # Should return 25"
      ],
      "metadata": {
        "id": "52GrinjHJ_hD",
        "colab": {
          "base_uri": "https://localhost:8080/"
        },
        "outputId": "edda4acf-1ba7-4d14-ee59-5f53a474d95f"
      },
      "execution_count": null,
      "outputs": [
        {
          "output_type": "stream",
          "name": "stdout",
          "text": [
            "21\n",
            "25\n"
          ]
        }
      ]
    },
    {
      "cell_type": "markdown",
      "source": [
        "6. Write a short recursive Python function that finds the minimum and maximum values in a sequence without using any loops."
      ],
      "metadata": {
        "id": "IPakG3YMNsdO"
      }
    },
    {
      "cell_type": "code",
      "source": [
        "def find_min_max(seq, index=0, min_val=None, max_val=None):\n",
        "    #TODO: implement this function\n",
        "    if index == 0:  # if index is 0\n",
        "      min_val = max_val = seq[index]  # set both min val and max val to first elements of the sequence\n",
        "    elif index < len(seq):  # for each recursive call, compare current element of sequence with current min and max values\n",
        "      if seq[index] < min_val:  # if smaller than current min\n",
        "        min_val = seq[index]  # update min val\n",
        "      elif seq[index] > max_val:  # if larger than current max\n",
        "        max_val = seq[index]  # update max val\n",
        "    else:\n",
        "      return min_val, max_val # return min and max values found\n",
        "    return find_min_max(seq, index + 1, min_val, max_val) # recursively calls itself with incremented index until index reaches length of sequence"
      ],
      "metadata": {
        "id": "KYuYAKEUJaBL"
      },
      "execution_count": null,
      "outputs": []
    },
    {
      "cell_type": "code",
      "source": [
        "# Example usage\n",
        "sequence = [5, 1, 8, 3, 9, 2]\n",
        "min_val, max_val = find_min_max(sequence)\n",
        "print(f\"Minimum value: {min_val}, Maximum value: {max_val}\")"
      ],
      "metadata": {
        "id": "mvnySf3KJd89",
        "colab": {
          "base_uri": "https://localhost:8080/"
        },
        "outputId": "eebd0f48-80a1-4f58-816c-f54aedd37520"
      },
      "execution_count": null,
      "outputs": [
        {
          "output_type": "stream",
          "name": "stdout",
          "text": [
            "Minimum value: 1, Maximum value: 9\n"
          ]
        }
      ]
    },
    {
      "cell_type": "markdown",
      "source": [
        "7. To generate all subsets of a set of $n$ elements recursively, we can follow a strategy where at each step, we decide whether to include or exclude the current element in/from the current subset. By applying this decision at every step for each element, we generate all possible subsets. This method is often referred to as the \"backtracking\" technique."
      ],
      "metadata": {
        "id": "UJyK9NJhKDHr"
      }
    },
    {
      "cell_type": "code",
      "source": [
        "def generate_subsets(s, index=0, current_subset=[]):\n",
        "    #TODO: implement this function\n",
        "    if index == len(s): # if current index reaches the length of the set s, it mean we have formed a subset\n",
        "      print(current_subset) # so print current subset and return\n",
        "      return\n",
        "    generate_subsets(s, index + 1, current_subset + [s[index]]) # include current element in subset by appending it to current subset and incrementing index\n",
        "    generate_subsets(s, index + 1, current_subset)  # exclude current element from subset by keeping current subset unchanged and incrementing index\n",
        "                                                    # generates all possible subsets of set s"
      ],
      "metadata": {
        "id": "ZsHNxEW-KHCR"
      },
      "execution_count": null,
      "outputs": []
    },
    {
      "cell_type": "code",
      "source": [
        "# Example usage\n",
        "s = [1, 2, 3]\n",
        "generate_subsets(s)"
      ],
      "metadata": {
        "id": "LBZQTqc9KIsg",
        "colab": {
          "base_uri": "https://localhost:8080/"
        },
        "outputId": "c0674aa6-af97-4b6b-fb6e-ccab9b82a96c"
      },
      "execution_count": null,
      "outputs": [
        {
          "output_type": "stream",
          "name": "stdout",
          "text": [
            "[1, 2, 3]\n",
            "[1, 2]\n",
            "[1, 3]\n",
            "[1]\n",
            "[2, 3]\n",
            "[2]\n",
            "[3]\n",
            "[]\n"
          ]
        }
      ]
    }
  ]
}