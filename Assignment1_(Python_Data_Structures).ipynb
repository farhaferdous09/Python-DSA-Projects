{
  "nbformat": 4,
  "nbformat_minor": 0,
  "metadata": {
    "colab": {
      "provenance": []
    },
    "kernelspec": {
      "name": "python3",
      "display_name": "Python 3"
    },
    "language_info": {
      "name": "python"
    }
  },
  "cells": [
    {
      "cell_type": "markdown",
      "source": [
        "1. Write a short Python function that takes a positive integer and returns the sum of all the positive integers smaller than n."
      ],
      "metadata": {
        "id": "2eifvs_carqE"
      }
    },
    {
      "cell_type": "code",
      "execution_count": null,
      "metadata": {
        "id": "9ahvlFyoad6b",
        "colab": {
          "base_uri": "https://localhost:8080/"
        },
        "outputId": "2cd4193f-3de7-4704-a2cc-91afdc1848c7"
      },
      "outputs": [
        {
          "output_type": "stream",
          "name": "stdout",
          "text": [
            "45\n"
          ]
        }
      ],
      "source": [
        "def Question1(n):\n",
        "  # TODO: complete this function\n",
        "  if n <= 0: # checks if n is not positive\n",
        "    return 0\n",
        "  total_sum = 0\n",
        "  for i in range(1, n):\n",
        "    total_sum += i\n",
        "  return total_sum\n",
        "\n",
        "\n",
        "print(Question1(10)) # The function should return the sum from 1 to 9, i.e., 45."
      ]
    },
    {
      "cell_type": "markdown",
      "source": [
        "2. Give a single command that computes the sum from Question 1, relying on Python's comprehension syntax and the built-in sum function."
      ],
      "metadata": {
        "id": "jDPrzFdWbWjV"
      }
    },
    {
      "cell_type": "code",
      "source": [
        "def Question2(n):\n",
        "  # TODO: re-implement Question1 using Python's comprehension syntax and the built-in sum function.\n",
        "  # Note that you are expected to complete the function in a single command, i.e., in one line.\n",
        "  return sum([i for i in range(1, n)])\n",
        "\n",
        "print(Question2(10)) # The function should again return 45."
      ],
      "metadata": {
        "id": "Liq_x1LMbeFK",
        "colab": {
          "base_uri": "https://localhost:8080/"
        },
        "outputId": "eeaeefa8-1f6a-4565-9356-fdb12cb1b1fe"
      },
      "execution_count": null,
      "outputs": [
        {
          "output_type": "stream",
          "name": "stdout",
          "text": [
            "45\n"
          ]
        }
      ]
    },
    {
      "cell_type": "markdown",
      "source": [
        "3. Write a short Python function that takes a positive integer and returns the sum of all the odd positive integers smaller than n, again relying on Python's comprehension syntax and the built-in sum function."
      ],
      "metadata": {
        "id": "ht-r3rNjb2lg"
      }
    },
    {
      "cell_type": "code",
      "source": [
        "def Question3(n):\n",
        "  # TODO: implement Question3 using Python's comprehension syntax and the built-in sum function.\n",
        "  # Note that you are expected to complete the function in a single command, i.e., in one line.\n",
        "  return sum([i for i in range(1,n) if i % 2 != 0])\n",
        "\n",
        "print(Question3(10)) # The function should return 25 (1+3+5+7+9)."
      ],
      "metadata": {
        "id": "0BTGQslpcEu6",
        "colab": {
          "base_uri": "https://localhost:8080/"
        },
        "outputId": "5b6f23d5-8647-45f8-d3f0-bdbf6efb550d"
      },
      "execution_count": null,
      "outputs": [
        {
          "output_type": "stream",
          "name": "stdout",
          "text": [
            "25\n"
          ]
        }
      ]
    },
    {
      "cell_type": "markdown",
      "source": [
        "4. Give an example of a Python code fragment that attempts to write an element to a list based on an index that may be out of bounds. If that index is out of bounds, the program should catch the exception that results, and print the following error message:\n",
        "\n",
        "    \"Don't try buffer overflow attacks in Python!\""
      ],
      "metadata": {
        "id": "Nm8wEivBdeTZ"
      }
    },
    {
      "cell_type": "code",
      "source": [
        "def Question4(data, value):\n",
        "  # TODO: implement this function that tries to write a value to somewhere in data that is out of bounds.\n",
        "  # Use the try-catch structure to catch the exception and print the required error message.\n",
        "  try:\n",
        "    # try to write the index value which could be out of bounds\n",
        "    data[len(data)] = value\n",
        "  except IndexError:\n",
        "    # catch exception and print error message\n",
        "    print(\"Don't try buffer overflow attacks in Python!\")\n",
        "\n",
        "import random\n",
        "# Generate a random size for the array between 5 and 10\n",
        "size = random.randint(5, 10)\n",
        "# Generate an array with random numbers between 1 and 100\n",
        "random_array = [random.randint(1, 100) for _ in range(size)]\n",
        "\n",
        "Question4(random_array, 0)"
      ],
      "metadata": {
        "id": "UlXx9-2OdiI5",
        "colab": {
          "base_uri": "https://localhost:8080/"
        },
        "outputId": "1e9713e2-c8ae-46fc-d682-1c5521b75b9e"
      },
      "execution_count": null,
      "outputs": [
        {
          "output_type": "stream",
          "name": "stdout",
          "text": [
            "Don't try buffer overflow attacks in Python!\n"
          ]
        }
      ]
    },
    {
      "cell_type": "markdown",
      "source": [
        "5. In \"Harry Potter and the Order of the Phoenix,\" Dolores Umbridge, who enforces strict and often cruel disciplinary measures at Hogwarts, uses a magical quill to make students write lines as a form of punishment. This quill, known as a \"Blood Quill,\" etches the words into the back of the writer's hand as they write, causing pain and scarring.\n",
        "\n",
        "  Write a Python program that will write out the following sentence ten times: \"I must not lie.\" Your program should number each of the sentences and it should make random-looking typos in five of them."
      ],
      "metadata": {
        "id": "t8FTH2CoiLLB"
      }
    },
    {
      "cell_type": "code",
      "source": [
        "def Question5():\n",
        "  #TODO: complete this function below\n",
        "  sentence = \"I must not lie.\"\n",
        "  num_sentences = 10\n",
        "  sentences_with_typos = random.sample(range(num_sentences), 5) # choose 5 random sentences to have typos\n",
        "\n",
        "  for i in range(num_sentences):\n",
        "    if i in sentences_with_typos:\n",
        "      # randomly replaces a character in the sentence to generate a typo\n",
        "      typo_index = random.randint(0, len(sentence) - 1)\n",
        "      typo_char = chr(random.randint(97, 122)) # random lowercase letter\n",
        "      sentence_with_typo = sentence[:typo_index] + typo_char + sentence[typo_index + 1:]\n",
        "      print(f\"{i + 1}. {sentence_with_typo}\")\n",
        "    else:\n",
        "      print(f\"{i + 1}. {sentence}\")\n",
        "\n",
        "\n",
        "Question5()"
      ],
      "metadata": {
        "id": "PUJgUU5bi_P6",
        "colab": {
          "base_uri": "https://localhost:8080/"
        },
        "outputId": "a768b624-5eca-4bb0-884c-4a3bccde0172"
      },
      "execution_count": null,
      "outputs": [
        {
          "output_type": "stream",
          "name": "stdout",
          "text": [
            "1. I must not lie.\n",
            "2. I must not lie.\n",
            "3. I mustxnot lie.\n",
            "4. I must not lie.\n",
            "5. I must not lie.\n",
            "6. I musn not lie.\n",
            "7. I must not lie.\n",
            "8. I must not zie.\n",
            "9. I must notmlie.\n",
            "10. I must nom lie.\n"
          ]
        }
      ]
    },
    {
      "cell_type": "markdown",
      "source": [
        "6. Write a Python class, Flower, that has three instance variables of type str, int, and float, that respectively represent the name of the flower, its number of petals, and its price. Your class must include a constructor method that initializes each variable to an appropriate value, and your class should include methods for setting the value of each type, and retrieving the value of each type."
      ],
      "metadata": {
        "id": "i0hsryjmjjMo"
      }
    },
    {
      "cell_type": "code",
      "source": [
        "#TODO: complete this Python class below\n",
        "class Flower:\n",
        "  def __init__(self, name, petals, price):\n",
        "    self._name = name\n",
        "    self._petals = petals\n",
        "    self._price = price\n",
        "\n",
        "  def set_name(self, name):\n",
        "    self._name = name\n",
        "\n",
        "  def set_petals(self, petals):\n",
        "    self._petals = petals\n",
        "\n",
        "  def set_price(self, price):\n",
        "    self._price = price\n",
        "\n",
        "  def get_name(self):\n",
        "    return self._name\n",
        "\n",
        "  def get_petals(self):\n",
        "    return self._petals\n",
        "\n",
        "  def get_price(self):\n",
        "    return self._price\n",
        "\n",
        "flower = Flower(\"Rose\", 5, 1.99)\n",
        "print(f\"Flower: {flower.get_name()}, Petals: {flower.get_petals()}, Price: ${flower.get_price()}\")"
      ],
      "metadata": {
        "id": "8zBAyTTsla7x",
        "colab": {
          "base_uri": "https://localhost:8080/"
        },
        "outputId": "5bde9bf8-2c3d-400c-c1c3-8e4b679b0f37"
      },
      "execution_count": null,
      "outputs": [
        {
          "output_type": "stream",
          "name": "stdout",
          "text": [
            "Flower: Rose, Petals: 5, Price: $1.99\n"
          ]
        }
      ]
    },
    {
      "cell_type": "code",
      "source": [
        "# The code below is copied from the textbook for Question 7 and 8. Do not change it.\n",
        "\n",
        "class Progression:\n",
        "    \"\"\"Iterator producing a generic progression.\n",
        "\n",
        "    Default iterator produces the whole numbers 0, 1, 2, ...\n",
        "    \"\"\"\n",
        "\n",
        "    def __init__(self, start=0):\n",
        "        \"\"\"Initialize current to the first value of the progression.\"\"\"\n",
        "        self._current = start\n",
        "\n",
        "    def _advance(self):\n",
        "        \"\"\"Update self._current to a new value.\n",
        "\n",
        "        This should be overridden by a subclass to customize progression.\n",
        "\n",
        "        By convention, if current is set to None, this designates the\n",
        "        end of a finite progression.\n",
        "        \"\"\"\n",
        "        self._current += 1\n",
        "\n",
        "    def __next__(self):\n",
        "        \"\"\"Return the next element, or else raise StopIteration error.\"\"\"\n",
        "        if self._current is None:    # our convention to end a progression\n",
        "            raise StopIteration()\n",
        "        else:\n",
        "            answer = self._current   # record current value to return\n",
        "            self._advance()          # advance to prepare for next time\n",
        "            return answer            # return the answer\n",
        "\n",
        "    def __iter__(self):\n",
        "        \"\"\"By convention, an iterator must return itself as an iterator.\"\"\"\n",
        "        return self\n",
        "\n",
        "    def print_progression(self, n):\n",
        "        \"\"\"Print next n values of the progression.\"\"\"\n",
        "        print(' '.join(str(next(self)) for j in range(n)))"
      ],
      "metadata": {
        "id": "qx_XDT4rmD9n"
      },
      "execution_count": null,
      "outputs": []
    },
    {
      "cell_type": "markdown",
      "source": [
        "7. Write a Python class that extends the Progression class so that each value in the progression is the absolute value of the difference between the previous two values. You should include a constructor that accepts a pair of numbers as the first two values, using 2 and 200 as the defaults."
      ],
      "metadata": {
        "id": "9LIAhCxklgR3"
      }
    },
    {
      "cell_type": "code",
      "source": [
        "class AbsoluteProgression(Progression):\n",
        "  #TODO: implement the Python class for AbsoluteProgression below\n",
        "  # progression where each value in the progression is the absolute value of the difference between the previous two numbers\n",
        "\n",
        "  def __init__(self, first=2, second=200):\n",
        "    # create new absolute progression\n",
        "    super().__init__(first)\n",
        "    self._prev = second\n",
        "\n",
        "  def _advance(self):\n",
        "    # update current number by taking the absolute difference between the previous two numbers\n",
        "    self._current, self._prev = abs(self._prev - self._current), self._current\n",
        "\n",
        "\n",
        "\n",
        "abs_progression = AbsoluteProgression()\n",
        "abs_progression.print_progression(20)"
      ],
      "metadata": {
        "id": "X5Q15q_NmN-o",
        "colab": {
          "base_uri": "https://localhost:8080/"
        },
        "outputId": "f4c4aef7-caf4-40d1-8da6-b8c1f75aaa69"
      },
      "execution_count": null,
      "outputs": [
        {
          "output_type": "stream",
          "name": "stdout",
          "text": [
            "2 198 196 2 194 192 2 190 188 2 186 184 2 182 180 2 178 176 2 174\n"
          ]
        }
      ]
    },
    {
      "cell_type": "markdown",
      "source": [
        "8. Write a Python class that extends the Progression class so that each value in the progression is the square root of the previous value. (Note that you can no longer represent each value with an integer.) Your constructor should accept an optional parameter specifying the start value, using 65,536 as a default."
      ],
      "metadata": {
        "id": "IDavSeDilnIQ"
      }
    },
    {
      "cell_type": "code",
      "source": [
        "import math\n",
        "\n",
        "class SquareRootProgression(Progression):\n",
        "  #TODO: implement the Python class for SquareRootProgression below\n",
        "  # progression where each number in the progression is the square root of the previous number\n",
        "\n",
        "  def __init__(self, start=65536):\n",
        "    # create new square root progression\n",
        "    super().__init__(start)\n",
        "\n",
        "  def _advance(self):\n",
        "    # update current number by taking square root of previous number\n",
        "    self._current = math.sqrt(self._current)\n",
        "\n",
        "\n",
        "sqrt_progression = SquareRootProgression()\n",
        "sqrt_progression.print_progression(6)"
      ],
      "metadata": {
        "id": "96Mfoh4bmWb2",
        "colab": {
          "base_uri": "https://localhost:8080/"
        },
        "outputId": "e3ae048d-2955-4017-be0a-b05d83625ad8"
      },
      "execution_count": null,
      "outputs": [
        {
          "output_type": "stream",
          "name": "stdout",
          "text": [
            "65536 256.0 16.0 4.0 2.0 1.4142135623730951\n"
          ]
        }
      ]
    }
  ]
}
