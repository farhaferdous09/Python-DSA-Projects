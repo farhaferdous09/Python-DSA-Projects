{
  "nbformat": 4,
  "nbformat_minor": 0,
  "metadata": {
    "colab": {
      "provenance": []
    },
    "kernelspec": {
      "name": "python3",
      "display_name": "Python 3"
    },
    "language_info": {
      "name": "python"
    }
  },
  "cells": [
    {
      "cell_type": "markdown",
      "source": [
        "1. Explain why the plot of the function $y=x^c$ is a straight line with slope $c$ on a log-log scale."
      ],
      "metadata": {
        "id": "pe2KkGAXFxwH"
      }
    },
    {
      "cell_type": "markdown",
      "source": [
        "> Answer: &lt;**Taking the logarithm of $y=x^c$ yields log(y) = log($x^c$). According to the logarithmic property log($a^b$) = b•log(a), log(y) = log($x^c$) becomes log(y) = c•log(x). If we let Y = log(y) and X = log(x), then Y = cX, or Y = mX + b. This is the slope-intercept form of the equation of a straight line, hence $y=x^c$ is a straight line with a slope.**&gt;"
      ],
      "metadata": {
        "id": "MkuJnSVmNR91"
      }
    },
    {
      "cell_type": "markdown",
      "source": [
        "2. The number of operations executed by algorithms $A$ and $B$ is $8n\\log n$ and $2n^2$, respectively. Determine $n_0$ such that $A$ is better than $B$ for $n\\geq n_0$.\n",
        "\n",
        "\n"
      ],
      "metadata": {
        "id": "t02eeG_fGBle"
      }
    },
    {
      "cell_type": "markdown",
      "source": [
        "> Answer: &lt;**A starts out as the higher algorithm, but crosses with B at a certain point, where B becomes higher afterwards. To find the point where they cross, set 8nlogn = $2n^2$. Solving algebraically: $8nlogn$ = $2n^2$ becomes $4nlogn$ = $n^2$ which becomes $4logn$ = $n$. Solve for n, and n = 16. So $n_0$ = 16 or 17, since we said $n$ can b greater than OR equal to $n_0$. When $n_0$ = 16, both A and B are equal, but when $n_0$ = 17, A will be better/faster than B so both values work.**&gt;"
      ],
      "metadata": {
        "id": "3h2f5VhvNYaJ"
      }
    },
    {
      "cell_type": "markdown",
      "source": [
        "3.\n",
        "Show that the following two statements are equivalent:\n",
        "\n",
        "* The running time of algorithm $A$ is always $O(f(n))$.\n",
        "\n",
        "* In the worst case, the running time of algorithm $A$ is $O(f(n))$."
      ],
      "metadata": {
        "id": "02kCDOVgGtUY"
      }
    },
    {
      "cell_type": "markdown",
      "source": [
        "> Answer: &lt;**Both statements express that the run-time of A is bounded above by $O(f(n))$. The first statement just says that the bound holds true for all inputs, while the second statement says that it holds true for the worst-case scenario. But the algorithm in both cases cannot exceed the bound set by $O(f(n))$, one of them just explicitly states the worst-scenario case while the other one generalized all inputs. That's why both statements are equivalent.**&gt;"
      ],
      "metadata": {
        "id": "Ss76j07cNZQ4"
      }
    },
    {
      "cell_type": "markdown",
      "source": [
        "4.\n",
        "Al and Bob are arguing about their algorithms. Al claims his $O(n\\log n)$-time method is always faster than Bob's $O(n^2)$-time method. To settle the issue, they perform a set of experiments. To Al's dismay, they find that if $n<100$\n",
        ", the $O(n^2)$-time algorithm runs faster, and only when $n>100$\n",
        " is the $O(n\\log n)$-time one better. Explain how this is possible."
      ],
      "metadata": {
        "id": "MdeM0MLtHohZ"
      }
    },
    {
      "cell_type": "markdown",
      "source": [
        "> Answer: &lt;**Al's algorithm has better asymptotic performance, but due to factors such as functional call complexity and memory allocation Bob's algorithm is the better algorithm for small input sizes. As input size grows, Al's asymptotic performance is better compared to Bob's. As input increases, the efficiency for an $O(n^2)$ algorithm decreases as the run time increases dramatically.**&gt;"
      ],
      "metadata": {
        "id": "r_-3PwDnNaJY"
      }
    },
    {
      "cell_type": "markdown",
      "source": [
        "5. Give a big-Oh characterization, in terms of $n$, of the running time of the example1/2/3/4/5 functions shown in the code below."
      ],
      "metadata": {
        "id": "tvMl8R0YI4f5"
      }
    },
    {
      "cell_type": "code",
      "source": [
        "def example1(S):\n",
        "    \"\"\"Return the sum of the elements in sequence S.\"\"\"\n",
        "    n = len(S)\n",
        "    total = 0\n",
        "    for j in range(n):             # loop from 0 to n-1\n",
        "        total += S[j]              # iterates over each element once\n",
        "    return total                   # linear time complexity, n = len(S), so O(n)\n",
        "\n",
        "def example2(S):\n",
        "    \"\"\"Return the sum of the elements with even index in sequence S.\"\"\"\n",
        "    n = len(S)\n",
        "    total = 0\n",
        "    for j in range(0, n, 2):       # note the increment of 2 (considers every other element of S)\n",
        "        total += S[j]              # iterates through half the elements\n",
        "    return total                   # O(n/2) --> O(n)\n",
        "\n",
        "def example3(S):\n",
        "    \"\"\"Return the sum of the prefix sums of sequence S.\"\"\"\n",
        "    n = len(S)\n",
        "    total = 0\n",
        "    for j in range(n):             # loop from 0 to n-1 (outer: n iterations)\n",
        "        for k in range(1+j):       # loop from 0 to j (inner: 0 to n-1 iterations)\n",
        "            total += S[k]          # total iterations: sum of first n positive integers --> O(n^2)\n",
        "    return total\n",
        "\n",
        "def example4(S):\n",
        "    \"\"\"Return the sum of the prefix sums of sequence S.\"\"\"\n",
        "    n = len(S)\n",
        "    prefix = 0\n",
        "    total = 0\n",
        "    for j in range(n):             # outer loop: 0 to n-1\n",
        "        prefix += S[j]\n",
        "        total += prefix            # total iterations: O(n)\n",
        "    return total\n",
        "\n",
        "def example5(A, B):                # assume that A and B have equal length\n",
        "    \"\"\"Return the number of elements in B equal to the sum of prefix sums in A.\"\"\"\n",
        "    n = len(A)\n",
        "    count = 0\n",
        "    for i in range(n):             # loop from 0 to n-1 (iterates n times)\n",
        "        total = 0\n",
        "        for j in range(n):         # loop from 0 to n-1 (iterates n times)\n",
        "            for k in range(1+j):   # loop from 0 to j (iterates j times)\n",
        "                total += A[k]      # total iterations: sum of first n positive integers --> O(n^3)\n",
        "        if B[i] == total:\n",
        "            count += 1\n",
        "    return count"
      ],
      "metadata": {
        "id": "u89inld2HQ-T"
      },
      "execution_count": null,
      "outputs": []
    },
    {
      "cell_type": "markdown",
      "source": [
        "> Answer: &lt;**Time complexities for each example respectively (further explanations for complexities are in comments)**&gt;\n",
        "\n",
        "*   example1: O(n)\n",
        "*   example2: O(n)\n",
        "*   example3: O(n^2)\n",
        "*   example4: O(n)\n",
        "*   example5: O(n^3)\n",
        "\n",
        "\n",
        "\n",
        "\n",
        "\n"
      ],
      "metadata": {
        "id": "fRNg0LtvNbWU"
      }
    },
    {
      "cell_type": "markdown",
      "source": [
        "6. Show that if $d(n)$ is $O(f(n))$, then $a\\cdot d(n)$ is $O(f(n))$, for any constant $a>0$."
      ],
      "metadata": {
        "id": "oaMLxi7YMk7C"
      }
    },
    {
      "cell_type": "markdown",
      "source": [
        "> Answer: &lt;**Since d(n) is O(f(n)), d(n) is bounded by $c_1$ • f(n) for some constants $c_1$ and $n_1$. Where a > 0, a • d(n) can be expressed as a • $c_1$ • f(n). a and $c_1$ are constants and a > 0, we can say c = a • $c_1$ as another constant. a • d(n) is bounded by c • f(n), so if d(n) is O(f(n)) then a • d(n) is also O(f(n)) for any constant a > 0.**&gt;"
      ],
      "metadata": {
        "id": "SAF74IwHNcTz"
      }
    },
    {
      "cell_type": "markdown",
      "source": [
        "7. Show that if $d(n)$ is $O(f(n))$ and $e(n)$ is $O(g(n))$, then the product $d(n)e(n)$ is $O(f(n)g(n))$."
      ],
      "metadata": {
        "id": "aciRbKc4M1yB"
      }
    },
    {
      "cell_type": "markdown",
      "source": [
        "> Answer: &lt;**Both d(n) and e(n) are bounded above by some constants $c_1$ and $c_2$ respectively. The product of d(n)e(n) are bounded above by c • f(n)•g(n), and the constant c would be equal to the product of $c_1$ and $c_2$. So the product of d(n)e(n) are bounded above by the product of their bounding functions ( O(f(n)) and O(g(n)) ) as well. So the product of the two would also mean a product of O(f(n)) and O(g(n)) which is O(f(n)g(n)).**&gt;"
      ],
      "metadata": {
        "id": "teOi7ykRNdbe"
      }
    },
    {
      "cell_type": "markdown",
      "source": [
        "8. Modify the code below in order to demonstrate that Python's list class occasionally shrinks the size of its underlying array when elements are popped from a list."
      ],
      "metadata": {
        "id": "PjNFt47qXOng"
      }
    },
    {
      "cell_type": "code",
      "source": [
        "# TODO: modify the code below\n",
        "import sys                                        # provides getsizeof function\n",
        "\n",
        "''' we can pop off elements from the list to see how its size changes.\n",
        "    to check the size change, we can check the no. of bytes of the list after each pop '''\n",
        "\n",
        "n = 10 # example of a no. of iterations\n",
        "\n",
        "data = []\n",
        "for k in range(n):                                # NOTE: must fix choice of n\n",
        "    a = len(data)                                 # number of elements\n",
        "    b = sys.getsizeof(data)                       # actual size in bytes\n",
        "    print(f'Length: {a:3}; Size in bytes: {b:4}')\n",
        "    data.append(None)\n",
        "\n",
        "for k in range(n):\n",
        "    data.pop()\n",
        "    a = len(data) # no. of elements\n",
        "    b = sys.getsizeof(data) # actual size in bytes\n",
        "    print(f'Length after pop: {a:3}; Size in bytes after pop: {b:4}')\n"
      ],
      "metadata": {
        "collapsed": true,
        "id": "rZcpaxauXRJH",
        "colab": {
          "base_uri": "https://localhost:8080/"
        },
        "outputId": "3da4f8e3-2e12-44b1-9260-893e05301535"
      },
      "execution_count": null,
      "outputs": [
        {
          "output_type": "stream",
          "name": "stdout",
          "text": [
            "Length:   0; Size in bytes:   56\n",
            "Length:   1; Size in bytes:   88\n",
            "Length:   2; Size in bytes:   88\n",
            "Length:   3; Size in bytes:   88\n",
            "Length:   4; Size in bytes:   88\n",
            "Length:   5; Size in bytes:  120\n",
            "Length:   6; Size in bytes:  120\n",
            "Length:   7; Size in bytes:  120\n",
            "Length:   8; Size in bytes:  120\n",
            "Length:   9; Size in bytes:  184\n",
            "Length after pop:   9; Size in bytes after pop:  184\n",
            "Length after pop:   8; Size in bytes after pop:  184\n",
            "Length after pop:   7; Size in bytes after pop:  152\n",
            "Length after pop:   6; Size in bytes after pop:  152\n",
            "Length after pop:   5; Size in bytes after pop:  120\n",
            "Length after pop:   4; Size in bytes after pop:  120\n",
            "Length after pop:   3; Size in bytes after pop:  120\n",
            "Length after pop:   2; Size in bytes after pop:  120\n",
            "Length after pop:   1; Size in bytes after pop:   88\n",
            "Length after pop:   0; Size in bytes after pop:   56\n"
          ]
        }
      ]
    },
    {
      "cell_type": "markdown",
      "source": [
        "9.\n",
        "Our DynamicArray class does not support use of negative indices with __getitem__. Update that method to better match the semantics of a Python list."
      ],
      "metadata": {
        "id": "jzPpS9taYD2P"
      }
    },
    {
      "cell_type": "code",
      "source": [
        "# Do not modidify the code here\n",
        "\n",
        "import ctypes                                       # provides low-level arrays\n",
        "\n",
        "class DynamicArray:\n",
        "    \"\"\"A dynamic array class akin to a simplified Python list.\"\"\"\n",
        "\n",
        "    def __init__(self):\n",
        "        \"\"\"Create an empty array.\"\"\"\n",
        "        self._n = 0                                 # count actual elements\n",
        "        self._capacity = 1                          # default array capacity\n",
        "        self._A = self._make_array(self._capacity)  # low-level array\n",
        "\n",
        "    def __len__(self):\n",
        "        \"\"\"Return number of elements stored in the array.\"\"\"\n",
        "        return self._n\n",
        "\n",
        "    def __getitem__(self, k):\n",
        "        \"\"\"Return element at index k.\"\"\"\n",
        "        if not 0 <= k < self._n:\n",
        "            raise IndexError('invalid index')\n",
        "        return self._A[k]                           # retrieve from array\n",
        "\n",
        "    def append(self, obj):\n",
        "        \"\"\"Add object to end of the array.\"\"\"\n",
        "        if self._n == self._capacity:               # not enough room\n",
        "            self._resize(2 * self._capacity)        # so double the capacity\n",
        "        self._A[self._n] = obj\n",
        "        self._n += 1\n",
        "\n",
        "    def _resize(self, c):                           # nonpublic utitity\n",
        "        \"\"\"Resize internal array to capacity c.\"\"\"\n",
        "        B = self._make_array(c)                     # new (bigger) array\n",
        "        for k in range(self._n):                    # for each existing value\n",
        "            B[k] = self._A[k]\n",
        "        self._A = B                                 # use the bigger array\n",
        "        self._capacity = c\n",
        "\n",
        "    def _make_array(self, c):                       # nonpublic utitity\n",
        "         \"\"\"Return new array with capacity c.\"\"\"\n",
        "         return (c * ctypes.py_object)()            # see ctypes documentation\n",
        "\n",
        "    def insert(self, k, value):\n",
        "        \"\"\"Insert value at index k, shifting subsequent values rightward.\"\"\"\n",
        "        # (for simplicity, we assume 0 <= k <= n in this verion)\n",
        "        if self._n == self._capacity:                  # not enough room\n",
        "            self._resize(2 * self._capacity)           # so double the capacity\n",
        "        for j in range(self._n, k, -1):                # shift rightmost first\n",
        "            self._A[j] = self._A[j-1]\n",
        "        self._A[k] = value                             # store newest element\n",
        "        self._n += 1"
      ],
      "metadata": {
        "id": "0dYh07A6oQx6"
      },
      "execution_count": null,
      "outputs": []
    },
    {
      "cell_type": "code",
      "source": [
        "class DynamicArray2(DynamicArray):\n",
        "  def __getitem__(self, k):\n",
        "    #TODO: re-implement this function to support negative indices\n",
        "    if k < 0:\n",
        "      k += len(self) # converts negative index to a positive one\n",
        "\n",
        "    if k < 0 or k >= len(self):\n",
        "      raise IndexError(\"Index is not in range.\") # makes sure index is within bounds\n",
        "\n",
        "    return self._A[k] # returns element at adjusted index\n",
        "\n",
        "\n",
        "da2 = DynamicArray2()\n",
        "for i in range(16):\n",
        "  da2.append(i)\n",
        "print(da2[-1])"
      ],
      "metadata": {
        "id": "1w3CeYX-ohMz",
        "colab": {
          "base_uri": "https://localhost:8080/"
        },
        "outputId": "f63b2fa1-f8a4-460a-aba5-6b288fa9e029"
      },
      "execution_count": null,
      "outputs": [
        {
          "output_type": "stream",
          "name": "stdout",
          "text": [
            "15\n"
          ]
        }
      ]
    },
    {
      "cell_type": "markdown",
      "source": [
        "10.\n",
        "Our implementation of insert for the DynamicArray class has the following inefficiency. In the case when a resize occurs, the resize operation takes time to copy all the elements from an old array to a new array, and then the subsequent loop in the body of insert shifts many of those elements. Give an improved implementation of the insert method, so that, in the case of a resize, the elements are shifted into their final position during that operation, thereby avoiding the subsequent shifting."
      ],
      "metadata": {
        "id": "-dIVMoJeYNDV"
      }
    },
    {
      "cell_type": "code",
      "source": [
        "class DynamicArray3(DynamicArray2):\n",
        "  def insert(self, k, value):\n",
        "    #TODO: re-implement this function with a higher efficiency\n",
        "    if self._n == len (self._A):\n",
        "      self._resize(2 * len(self._A)) # doubles capacity if array is full\n",
        "\n",
        "    for j in range(self._n, k, -1):\n",
        "      self._A[j] = self._A[j - 1] # makes space for the new element by shifting to the right of array\n",
        "\n",
        "    self._A[k] = value\n",
        "    self._n += 1 # inserts new element at index k\n",
        "\n",
        "da3 = DynamicArray3()\n",
        "for i in range(16):\n",
        "  da3.append(i)\n",
        "da3.insert(0, -1)\n",
        "da3.insert(17, 16)\n",
        "print(\" \".join(str(da3[i]) for i in range(len(da3))))"
      ],
      "metadata": {
        "id": "FnQVdNAcqrCW",
        "colab": {
          "base_uri": "https://localhost:8080/"
        },
        "outputId": "4f174512-2cf5-4e65-bddf-fe825f29c81e"
      },
      "execution_count": null,
      "outputs": [
        {
          "output_type": "stream",
          "name": "stdout",
          "text": [
            "-1 0 1 2 3 4 5 6 7 8 9 10 11 12 13 14 15 16\n"
          ]
        }
      ]
    },
    {
      "cell_type": "markdown",
      "source": [
        "11. Implement the pop method for the DynamicArray class that removes the last element of the array, and that shrinks the capacity, $N$, of the array by half any time the number of elements in the array goes below $N/4$."
      ],
      "metadata": {
        "id": "7GARFdFfruSk"
      }
    },
    {
      "cell_type": "code",
      "source": [
        "class DynamicArray4(DynamicArray3):\n",
        "  def pop(self):\n",
        "    #TODO: implement the pop function\n",
        "    if self._n == 0:\n",
        "      raise IndexError(\"pop from empty array\")\n",
        "\n",
        "    popped_element = self._A[self._n - 1] # remove last element from array\n",
        "    self._A[self._n - 1] = None # clears reference to popped element\n",
        "    self._n -= 1\n",
        "\n",
        "    if self._n < len(self._A) // 4: # checks if no. of elements falls under N/4\n",
        "      self._resize(len(self._A) // 2) # slices array capacity by half\n",
        "\n",
        "    return popped_element\n",
        "\n",
        "\n",
        "da4 = DynamicArray4()\n",
        "for i in range(16):\n",
        "  da4.append(i)\n",
        "for i in range(16):\n",
        "  print(da4.pop())"
      ],
      "metadata": {
        "id": "eAlzcPnJsBQZ",
        "colab": {
          "base_uri": "https://localhost:8080/"
        },
        "outputId": "9e99017e-d7f4-4df9-902d-6fec07cb6450"
      },
      "execution_count": null,
      "outputs": [
        {
          "output_type": "stream",
          "name": "stdout",
          "text": [
            "15\n",
            "14\n",
            "13\n",
            "12\n",
            "11\n",
            "10\n",
            "9\n",
            "8\n",
            "7\n",
            "6\n",
            "5\n",
            "4\n",
            "3\n",
            "2\n",
            "1\n",
            "0\n"
          ]
        }
      ]
    }
  ]
}
