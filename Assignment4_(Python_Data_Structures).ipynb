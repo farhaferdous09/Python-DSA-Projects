{
  "nbformat": 4,
  "nbformat_minor": 0,
  "metadata": {
    "colab": {
      "provenance": []
    },
    "kernelspec": {
      "name": "python3",
      "display_name": "Python 3"
    },
    "language_info": {
      "name": "python"
    }
  },
  "cells": [
    {
      "cell_type": "markdown",
      "source": [
        "* Name: &lt;**Farha Ferdous**&gt;\n",
        "\n",
        "* Student ID: &lt;**24298372**&gt;\n",
        "\n",
        "\n",
        "---\n",
        "\n"
      ],
      "metadata": {
        "id": "jp7Q_lhvA92B"
      }
    },
    {
      "cell_type": "markdown",
      "source": [
        "**Instructions**\n",
        "\n",
        "* Create a copy of this notebook (this notebook itself is set to be immutable).\n",
        "\n",
        "\n",
        "* Complete all questions below by implementing the corresponding function or class. Do not modify any existing code.\n",
        "\n",
        "* Share your notebook and paste the link to Blackboard.\n",
        "---\n",
        "\n"
      ],
      "metadata": {
        "id": "eRc6GY-2pc8M"
      }
    },
    {
      "cell_type": "markdown",
      "source": [
        "1. Implement concatenate_lists() that concatenates two singly linked lists $M$\n",
        " and $N$, given only references to the first node of each list, into a single list $L$ that contains all the nodes of $M$ followed by all the nodes of $N$."
      ],
      "metadata": {
        "id": "vDjvxwWfiuPz"
      }
    },
    {
      "cell_type": "code",
      "source": [
        "class ListNode:\n",
        "    def __init__(self, value=0, next=None): # initializing listNode with value and a reference to the next node\n",
        "        self.value = value\n",
        "        self.next = next\n",
        "\n",
        "def concatenate_lists(headM, headN):\n",
        "    #TODO: implement this function to concatenate two lists starting from headM and headN, respectively.\n",
        "    if not headM or not headN:\n",
        "      return headN if not headM else headM  # if headM is None, return headN as it is, else return headM\n",
        "                                            # in other words, we are checking if either list is empty-- and if it is-- then we return the other list (non-empty list)\n",
        "    tailM = headM # get tail of first list (headM)\n",
        "    while tailM.next:\n",
        "      tailM = tailM.next\n",
        "\n",
        "    tailM.next = headN # connects tail of headM to the head of headN\n",
        "                       # in other words, we are connecting the first list's tail to the second list's head\n",
        "    return headM  # return head of the concatenated list\n",
        "\n",
        "def create_list(arr): # FUNCTION: creates a singly linked list from an array\n",
        "    if not arr:\n",
        "        return None\n",
        "    head = ListNode(arr[0]) # create the list's head node\n",
        "    current = head\n",
        "    for value in arr[1:]:\n",
        "        current.next = ListNode(value)  # creates new node with the value from the array\n",
        "        current = current.next # move to next node\n",
        "    return head # return the head of the created list\n",
        "\n",
        "def print_list(head): # FUNCTION: print values of a singly linked list\n",
        "    current = head\n",
        "    while current:\n",
        "        print(current.value, end=\" -> \")  # prints value of current node\n",
        "        current = current.next  # move to next node\n",
        "    print(\"None\") # print None at the end to indicate the end of the list\n",
        "\n",
        "# Test code\n",
        "M = create_list([1, 2, 3])\n",
        "N = create_list([4, 5, 6])\n",
        "\n",
        "print(\"List M:\")\n",
        "print_list(M)\n",
        "print(\"List N:\")\n",
        "print_list(N)\n",
        "\n",
        "# Concatenate lists\n",
        "L = concatenate_lists(M, N)\n",
        "print(\"Concatenated List L:\")\n",
        "print_list(L)\n"
      ],
      "metadata": {
        "id": "7qjWNRCjj6wG",
        "colab": {
          "base_uri": "https://localhost:8080/"
        },
        "outputId": "4fadf102-e02a-4513-c717-0551c68f96b1"
      },
      "execution_count": null,
      "outputs": [
        {
          "output_type": "stream",
          "name": "stdout",
          "text": [
            "List M:\n",
            "1 -> 2 -> 3 -> None\n",
            "List N:\n",
            "4 -> 5 -> 6 -> None\n",
            "Concatenated List L:\n",
            "1 -> 2 -> 3 -> 4 -> 5 -> 6 -> None\n"
          ]
        }
      ]
    },
    {
      "cell_type": "markdown",
      "source": [
        "2. Implement the reverseLinkedList() function that will reverse a LinkedList with an $O(n)$ complexity."
      ],
      "metadata": {
        "id": "x-N6hUejh0F3"
      }
    },
    {
      "cell_type": "code",
      "source": [
        "def reverseLinkedList(head):\n",
        "    #TODO: implement this function to reverse a list starting from head\n",
        "    if not head or not head.next: # checks if linked list is empty or if it only contains one node\n",
        "      return head\n",
        "\n",
        "    ''' make pointers for previous, current, and next nodes '''\n",
        "    previousNode = None # pointer to previous node (it was at first None)\n",
        "    currentNode = head  # pointer to current node (it used to be the head node)\n",
        "    nextNode = None # temporary pointer to the next node\n",
        "\n",
        "    ''' traverse through the list and reverse each pointer '''\n",
        "    while currentNode:\n",
        "      nextNode = currentNode.next # next node is now stored in the temporary pointer\n",
        "      currentNode.next = previousNode # what used to be the next node (pointer) is now assigned to become the previous node\n",
        "      previousNode = currentNode  # what used to be the previous node (pointer) is now moved one step ahead\n",
        "      currentNode = nextNode  # what used to be the node one step ahead (pointer before being assigned to the previous node) is now the next node\n",
        "    return previousNode # we return the new head of the reversed list\n",
        "\n",
        "    ''' RE-USE create_list FUNCTION FROM QUESTION 1 '''\n",
        "    def create_list(arr): # FUNCTION: creates a singly linked list from an array\n",
        "      if not arr:\n",
        "        return None\n",
        "      head = ListNode(arr[0]) # create the list's head node\n",
        "      current = head\n",
        "      for value in arr[1:]:\n",
        "        current.next = ListNode(value)  # creates new node with the value from the array\n",
        "        current = current.next # move to next node\n",
        "      return head # return the head of the created list\n",
        "\n",
        "    ''' RE-USE print_list FUNCTION FROM QUESTION 1 '''\n",
        "    def print_list(head): # FUNCTION: print values of a singly linked list\n",
        "      current = head\n",
        "      while current:\n",
        "        print(current.value, end=\" -> \")  # prints value of current node\n",
        "        current = current.next  # move to next node\n",
        "      print(\"None\") # print None at the end to indicate the end of the list\n",
        "\n",
        "# Test code\n",
        "original_list = create_list([1, 2, 3, 4, 5])\n",
        "\n",
        "print(\"Original List:\")\n",
        "print_list(original_list)\n",
        "\n",
        "# Reverse the list\n",
        "reversed_list = reverseLinkedList(original_list)\n",
        "\n",
        "print(\"Reversed List:\")\n",
        "print_list(reversed_list)"
      ],
      "metadata": {
        "id": "B-Rnq5orlvx8",
        "colab": {
          "base_uri": "https://localhost:8080/"
        },
        "outputId": "74822d69-0a8b-47b9-d26e-256db6ab0221"
      },
      "execution_count": null,
      "outputs": [
        {
          "output_type": "stream",
          "name": "stdout",
          "text": [
            "Original List:\n",
            "1 -> 2 -> 3 -> 4 -> 5 -> None\n",
            "Reversed List:\n",
            "5 -> 4 -> 3 -> 2 -> 1 -> None\n"
          ]
        }
      ]
    },
    {
      "cell_type": "markdown",
      "source": [
        "3. Implement the count_nodes_in_circular_list() function that counts the number of nodes in a circularly linked list."
      ],
      "metadata": {
        "id": "RlsXInbv7OR7"
      }
    },
    {
      "cell_type": "markdown",
      "source": [
        "***professor, i left comment at the end regarding list length because i don't get why it's \"first 10 elements\" so i just treated the list as having 5 elements since circular_list_tail is assigned to a list with length 5 anyways. i completed the function in consideration of that, so my output is 5.***"
      ],
      "metadata": {
        "id": "erEm8uSnU7S9"
      }
    },
    {
      "cell_type": "code",
      "source": [
        "def count_nodes_in_circular_list(tail):\n",
        "    #TODO: implement this function to count the number of nodes in a circularly linked list given by its tail\n",
        "    ''' for professor: left note in text box below question '''\n",
        "    ''' use traversal to keep track of the nodes '''\n",
        "    if not tail or not tail.next: # checks if if the list is empty or not\n",
        "      return 0  # indicates list is empty\n",
        "\n",
        "    count = 1 # we set count equal to 1 because we are considering the tail node in the count\n",
        "    current = tail.next # in circular linked list, the tail node's reference point back to the head which makes it circular\n",
        "                        # we are starting the traversal from the node after the tail node which is the head node\n",
        "                        # we see this in the create_circular_list method where current = head, so current = tail.next here\n",
        "    while current != tail:  # traversing/looping till we make sure we're not back to the first node\n",
        "      count+= 1 # add 1 to counter after traversing each node\n",
        "      current = current.next  # move to the next node\n",
        "      if current == tail.next:  # breaks loop once we reach the first node\n",
        "        break\n",
        "    return count  # returns # of nodes in the list\n",
        "\n",
        "def create_circular_list(arr):  # FUNCTION: creates circular linked list from an array\n",
        "    if not arr:\n",
        "        return None # is returned when input array is empty\n",
        "    head = ListNode(arr[0]) # create head node of linked list\n",
        "    current = head  # current node = head node\n",
        "    for value in arr[1:]:\n",
        "        current.next = ListNode(value)  # create new node with value from array\n",
        "        current = current.next  # next node\n",
        "    current.next = head  # Complete the circle\n",
        "    return current  # Return the tail\n",
        "\n",
        "def print_circular_list(tail, count): # FUNCTION: prints values of the circular linked list\n",
        "    if not tail:\n",
        "        print(\"Empty list\") # prints message if list is empty\n",
        "        return\n",
        "\n",
        "    current = tail.next # begin traversal from node after tail node\n",
        "    while count > 0:\n",
        "        print(current.value, end=\" -> \")  # print current node value\n",
        "        current = current.next  # next node\n",
        "        count -= 1  # decrement every time you print a node\n",
        "        if current == tail.next:  # breaks loop once we reach first node\n",
        "            break\n",
        "    print(\"...\")\n",
        "\n",
        "# Test code\n",
        "circular_list_tail = create_circular_list([1, 2, 3, 4, 5])\n",
        "\n",
        "print(\"Circular List (first 10 elements):\")\n",
        "print_circular_list(circular_list_tail, 10) # list has length of 5 though?? typo??\n",
        "\n",
        "# Count the nodes\n",
        "node_count = count_nodes_in_circular_list(circular_list_tail)\n",
        "print(\"Number of nodes in the circular list:\", node_count)"
      ],
      "metadata": {
        "id": "t5vAMHJ4m-eO",
        "colab": {
          "base_uri": "https://localhost:8080/"
        },
        "outputId": "7aa5bfdb-332a-44bc-b164-0c0dbc1ce957"
      },
      "execution_count": null,
      "outputs": [
        {
          "output_type": "stream",
          "name": "stdout",
          "text": [
            "Circular List (first 10 elements):\n",
            "1 -> 2 -> 3 -> 4 -> 5 -> ...\n",
            "Number of nodes in the circular list: 5\n"
          ]
        }
      ]
    },
    {
      "cell_type": "markdown",
      "source": [
        "\n",
        "4. Our LinkedCircularQueue class provides a rotate() method that has semantics equivalent to Q.enqueue(Q.dequeue()), for a nonempty queue. Implement such a method for the LinkedQueue class without the creation of any new nodes."
      ],
      "metadata": {
        "id": "3TWgYasggQ4c"
      }
    },
    {
      "cell_type": "code",
      "source": [
        "class Empty(Exception):\n",
        "    \"\"\"Error attempting to access an element from an empty container.\"\"\"\n",
        "    pass\n",
        "\n",
        "class LinkedQueue:\n",
        "    \"\"\"FIFO queue implementation using a singly linked list for storage.\"\"\"\n",
        "\n",
        "    def __init__(self):\n",
        "        \"\"\"Create an empty queue.\"\"\"\n",
        "        self._head = None\n",
        "        self._tail = None\n",
        "        self._size = 0                          # number of queue elements\n",
        "\n",
        "    def __len__(self):\n",
        "        \"\"\"Return the number of elements in the queue.\"\"\"\n",
        "        return self._size\n",
        "\n",
        "    def is_empty(self):\n",
        "        \"\"\"Return True if the queue is empty.\"\"\"\n",
        "        return self._size == 0\n",
        "\n",
        "    def first(self):\n",
        "        \"\"\"Return (but do not remove) the element at the front of the queue.\"\"\"\n",
        "        if self.is_empty():\n",
        "            raise Empty('Queue is empty')\n",
        "        return self._head.value              # front aligned with head of list\n",
        "\n",
        "    def dequeue(self):\n",
        "        \"\"\"Remove and return the first element of the queue (i.e., FIFO).\n",
        "\n",
        "        Raise Empty exception if the queue is empty.\n",
        "        \"\"\"\n",
        "        if self.is_empty():\n",
        "            raise Empty('Queue is empty')\n",
        "        answer = self._head.value\n",
        "        self._head = self._head._next\n",
        "        self._size -= 1\n",
        "        if self.is_empty():                     # special case as queue is empty\n",
        "            self._tail = None                   # removed head had been the tail\n",
        "        return answer\n",
        "\n",
        "    def enqueue(self, e):\n",
        "        \"\"\"Add an element to the back of queue.\"\"\"\n",
        "        newest = ListNode(e, None)            # node will be new tail node\n",
        "        if self.is_empty():\n",
        "            self._head = newest                 # special case: previously empty\n",
        "        else:\n",
        "            self._tail._next = newest\n",
        "        self._tail = newest                     # update reference to tail node\n",
        "        self._size += 1\n",
        "\n",
        "    def rotate(self):\n",
        "        \"\"\"Rotate front element to the back of the queue.\"\"\"\n",
        "        #TODO: implement this function\n",
        "        if self._size > 1: # making sure the queue is not empty and has at least 2 elements\n",
        "          if self._tail == self._head:  # when queue = only 2 elements\n",
        "            self._tail._next = self._head # connect tail with head (current ones)\n",
        "            self._tail = self._head # update tail to be new/current head\n",
        "            self._head = self._head._next # so the previous head is now the next element\n",
        "            self._tail._next = None # next of new tail is None\n",
        "          else: # when queue is NOT just 2 elements (repeats a lot of the steps, minus a few)\n",
        "            self._tail._next = self._head # connect tail with head\n",
        "            self._tail = self._head # update tail to be new/current head\n",
        "            self._head = self._head._next # previous head is moved to next element\n",
        "\n",
        "\n",
        "# Test code\n",
        "queue = LinkedQueue()\n",
        "print(\"Enqueueing 1, 2, 3\")\n",
        "queue.enqueue(1)\n",
        "queue.enqueue(2)\n",
        "queue.enqueue(3)\n",
        "\n",
        "print(\"Current front element:\", queue.first())\n",
        "queue.rotate()\n",
        "print(\"Front element after one rotation:\", queue.first())\n",
        "\n",
        "queue.rotate()\n",
        "print(\"Front element after two rotations:\", queue.first())"
      ],
      "metadata": {
        "id": "cnI12AX9n4l4",
        "colab": {
          "base_uri": "https://localhost:8080/"
        },
        "outputId": "e7b8ba1e-961b-462c-d5f5-363c6c3572c6"
      },
      "execution_count": null,
      "outputs": [
        {
          "output_type": "stream",
          "name": "stdout",
          "text": [
            "Enqueueing 1, 2, 3\n",
            "Current front element: 1\n",
            "Front element after one rotation: 2\n",
            "Front element after two rotations: 3\n"
          ]
        }
      ]
    },
    {
      "cell_type": "markdown",
      "source": [
        "5. Design and implement a nonrecursive method for finding, by link hopping, the middle node of a doubly linked list with header and trailer sentinels. In the case of an even number of nodes, report the node slightly left of center as the \"middle.\" (Note: This method must only use link hopping; it cannot use a counter.) What is the running time of this method?"
      ],
      "metadata": {
        "id": "nItU8_k9hU-J"
      }
    },
    {
      "cell_type": "markdown",
      "source": [
        "***professor, i have a question about why link hopping is considered non-recursive. so if there is no counter and no recursion, and the run time of this method is O(n), then why is it not equivalent to recursive functions that are linear? the find_middle function uses while loop where the slow and fast pointers are constantly being assigned to the nodes that are 1 and 2 steps away respectively, so even if we do not use a counter is this not considered recursive because you are changing where the pointers are for a non-arbitrary value each time for a certain amount of steps (till you reach end of the double linked list)***"
      ],
      "metadata": {
        "id": "FVohBEyLvsZ0"
      }
    },
    {
      "cell_type": "code",
      "source": [
        "class _DoublyLinkedBase:\n",
        "    \"\"\"A base class providing a doubly linked list representation.\"\"\"\n",
        "\n",
        "    class _Node:\n",
        "        \"\"\"Lightweight, nonpublic class for storing a doubly linked node.\"\"\"\n",
        "        def __init__(self, element, prev, next):  # Initialize node's fields\n",
        "            self._element = element\n",
        "            self._prev = prev\n",
        "            self._next = next\n",
        "\n",
        "    def __init__(self):\n",
        "        \"\"\"Create an empty list.\"\"\"\n",
        "        self._header = self._Node(None, None, None)\n",
        "        self._trailer = self._Node(None, None, None)\n",
        "        self._header._next = self._trailer  # trailer is after header\n",
        "        self._trailer._prev = self._header  # header is before trailer\n",
        "        self._size = 0  # number of elements\n",
        "\n",
        "    def is_empty(self):\n",
        "        \"\"\"Return True if list is empty.\"\"\"\n",
        "        return self._size == 0\n",
        "\n",
        "    def _insert_between(self, e, predecessor, successor):\n",
        "        \"\"\"Add element e between two existing nodes and return new node.\"\"\"\n",
        "        newest = self._Node(e, predecessor, successor)  # linked to neighbors\n",
        "        predecessor._next = newest\n",
        "        successor._prev = newest\n",
        "        self._size += 1\n",
        "        return newest\n",
        "\n",
        "    def find_middle(self):\n",
        "        \"\"\"Find and return the middle node of the list.\"\"\"\n",
        "        #TODO: implement this function\n",
        "        ''' for professor: left note in text box below question '''\n",
        "        ''' use two pointers for link hopping. both start at header sentinel, but one moves slowly (1 node at a time) while other moves fast (2 nodes at a time) '''\n",
        "        ''' when the fast pointer reaches the trailer sentinel, the slow one will be pointing to the middle node (even)/left of center (odd) '''\n",
        "        ''' run time will be O(n), where n = # of nodes in the list since both pointers move at same time with diff speeds '''\n",
        "        ''' no counters '''\n",
        "        ''' link hopping is non-recursive? '''\n",
        "\n",
        "        if self.is_empty(): # checks if list is empty\n",
        "          return None\n",
        "\n",
        "        fastPointer = self._header._next  # create fast pointer pointing to first node\n",
        "        slowPointer = self._header._next  # create slow pointer pointing to first node\n",
        "\n",
        "        while fastPointer._next is not None and fastPointer._next._next is not None: # makes sure we haven't reached the last two nodes\n",
        "          slowPointer = slowPointer._next # slow pointer moves by one step\n",
        "          fastPointer = fastPointer._next._next # fast pointer moves by two steps\n",
        "\n",
        "        return slowPointer  # slow pointer = middle node when fastPointer reaches the end\n",
        "\n",
        "\n",
        "# Example usage\n",
        "if __name__ == \"__main__\":\n",
        "    dll = _DoublyLinkedBase()\n",
        "    elements = ['a', 'b', 'c', 'd', 'e']  # Example list elements\n",
        "\n",
        "    # Populate the list\n",
        "    for el in elements:\n",
        "        dll._insert_between(el, dll._trailer._prev, dll._trailer)\n",
        "\n",
        "    # Find and report the middle node\n",
        "    middle_node = dll.find_middle()\n",
        "    if middle_node:\n",
        "        print(f\"Middle node contains: '{middle_node._element}'\")  # should print c since it's in the middle\n",
        "    else:\n",
        "        print(\"The list is empty.\")\n"
      ],
      "metadata": {
        "id": "bMrbS1DfvVGp",
        "colab": {
          "base_uri": "https://localhost:8080/"
        },
        "outputId": "1974ef99-4504-4bb8-c400-d9defb332b96"
      },
      "execution_count": null,
      "outputs": [
        {
          "output_type": "stream",
          "name": "stdout",
          "text": [
            "Middle node contains: 'c'\n"
          ]
        }
      ]
    },
    {
      "cell_type": "markdown",
      "source": [
        "> **Answer**: Link hopping has a running time of O(n), with n = # of nodes in the list (in this case, being 5). The fast pointer always moves twice as fast as the slow pointer, so it is a linear time complexity."
      ],
      "metadata": {
        "id": "qwm0EQ2bEzoK"
      }
    },
    {
      "cell_type": "markdown",
      "source": [
        "\n",
        "6. For a tree $T$, let $n_I$ denote the number of its internal nodes, and let $n_E$ denote the number of its external nodes. Show that if every internal node in  has exactly 3 children, then $n_E = 2n_I+1$."
      ],
      "metadata": {
        "id": "375-lhwsFsx1"
      }
    },
    {
      "cell_type": "markdown",
      "source": [
        "> **Answer**: I am a bit confused about the part \"if every internal node in has exactly 3 children\" since it doesn't specify where each node is \"in\", but I am going to assume that the question means the internal nodes are in the tree T. For instance, if $n_I$ = 0, then $n_E$ = 2$n_I$ + 1 = 1. Here we are saying that if there are no internal nodes, or $n_I$ = 0, then we only have 1 external node which is the result of the equation. This is because in this case, the tree only has one node, which is ALSO the external node because there are no internal nodes. Internal nodes are parents, and external nodes are leaves (children) of the internal nodes/parents.\n",
        "\n",
        "So with this logic, if every internal node has exactly 3 children, we are saying that for every $n_I$ = 1, $n_e$ = 3, because 1 parent/internal node = 3 children/external nodes. We can check this by plugging it into the equation, so 3 = 2$n_i$ + 1, and we plug in 1 for $n_i$ because we said 1 internal node would output 3 external nodes so 3 = 2(1) + 1 which is TRUE. So the equation is true."
      ],
      "metadata": {
        "id": "iYGutiwjGy9P"
      }
    },
    {
      "cell_type": "markdown",
      "source": [
        "7. The path length of a tree $T$ is the sum of the depths of all positions in $T$. Design and implement a linear-time method for computing the path length of a tree $T$."
      ],
      "metadata": {
        "id": "8HAIIZtOVELw"
      }
    },
    {
      "cell_type": "code",
      "source": [
        "class TreeNode:\n",
        "    def __init__(self, value=0, children=None):\n",
        "        self.value = value\n",
        "        self.children = children if children is not None else []\n",
        "\n",
        "def calculate_path_length(root):\n",
        "    #TODO: complete this function\n",
        "    ''' use DFS (depth-first search) traversal search to calculate path length '''\n",
        "    ''' path length = sum of the depth of each node '''\n",
        "    ''' time complexity = O(n)/linear, n = total # of nodes '''\n",
        "    if not root:  # checks if tree is empty (no root means there is no tree/empty tree)\n",
        "      return 0  # there is no path length if tree is empty (no nodes = path length=0)\n",
        "    pathLength = 0 # set path length = 0\n",
        "    queue = [(root, 0)] # make queue with the tree root and its depth\n",
        "\n",
        "    ''' traverse through nodes '''\n",
        "    while queue:  # traverses/iterates through queue until it's empty\n",
        "      node, depth = queue.pop(0)  # takes a node by dequeueing it from the front of queue to get its depth\n",
        "      pathLength += depth  # adds depth of the node that just got dequeued to the path length\n",
        "\n",
        "      ''' traverse through children of nodes '''\n",
        "      for child in node.children: # traverses/iterates through the children of the nodes\n",
        "        queue.append((child, depth + 1))  # enqueues each child to queue with its depth + 1\n",
        "\n",
        "    return pathLength # reuturn total/final path length\n",
        "\n",
        "\n",
        "# Simple Test Code\n",
        "# Constructing a sample tree\n",
        "#        1\n",
        "#       / \\\n",
        "#      2   3\n",
        "#     /   / \\\n",
        "#    4   5   6\n",
        "\n",
        "node4 = TreeNode(4)\n",
        "node5 = TreeNode(5)\n",
        "node6 = TreeNode(6)\n",
        "node2 = TreeNode(2, [node4])\n",
        "node3 = TreeNode(3, [node5, node6])\n",
        "root = TreeNode(1, [node2, node3])\n",
        "\n",
        "# Calculate and print the path length\n",
        "print(calculate_path_length(root))  # Expected Output: 9"
      ],
      "metadata": {
        "id": "4XWHE1EoVDLb",
        "colab": {
          "base_uri": "https://localhost:8080/"
        },
        "outputId": "5b218e1e-7c49-4b1a-c3f8-d7da99221caf"
      },
      "execution_count": null,
      "outputs": [
        {
          "output_type": "stream",
          "name": "stdout",
          "text": [
            "8\n"
          ]
        }
      ]
    },
    {
      "cell_type": "markdown",
      "source": [
        "8. Let $T$ be a tree with $n$ positions. Define the lowest common ancestor (LCA) between two positions $p$ and $q$ as the lowest position in $T$ that has both $p$ and $q$ as descendants (where we allow a position to be a descendant of itself). Given two positions $p$ and $q$, design and implement an efficient algorithm for finding the LCA of $p$ and $q$. What is the running time of your algorithm?"
      ],
      "metadata": {
        "id": "vSwe8-O_fmbg"
      }
    },
    {
      "cell_type": "code",
      "source": [
        "class BTreeNode:\n",
        "    def __init__(self, value=0, left=None, right=None):\n",
        "        self.value = value\n",
        "        self.left = left\n",
        "        self.right = right\n",
        "\n",
        "def find_LCA(root, node1, node2):\n",
        "    #TODO: complete this function\n",
        "    ''' use recursive algorithm to traverse tree from root downwards '''\n",
        "    ''' O(n) time complexity, n = # of nodes in the tree '''\n",
        "    if not root:  # checks if tree is empty (no root = no tree/empty tree)\n",
        "      return None\n",
        "\n",
        "    if root.value == node1 or root.value == node2: # root is LCA if it matches either node1 or node2's value\n",
        "      return root\n",
        "    ''' subtree recursion '''\n",
        "    leftLCA = find_LCA(root.left, node1, node2) # do recursively for left subtree\n",
        "    rightLCA = find_LCA(root.right, node1, node2) # do recursively for right subtree\n",
        "\n",
        "    ''' check if node1 or node2 are present in different subtrees '''\n",
        "    if leftLCA and rightLCA:  # if both are not None, the nodes are in different subtrees\n",
        "      return root # LCA is the current root\n",
        "\n",
        "    return leftLCA if leftLCA is not None else rightLCA # return whatever's not None (if one of the LCA is not None, return that LCA)\n",
        "\n",
        "\n",
        "\n",
        "\n",
        "# Simple Test Code\n",
        "# Constructing a sample binary tree\n",
        "#        1\n",
        "#       / \\\n",
        "#      2   3\n",
        "#     / \\\n",
        "#    4   5\n",
        "\n",
        "root = BTreeNode(1)\n",
        "root.left = BTreeNode(2)\n",
        "root.right = BTreeNode(3)\n",
        "root.left.left = BTreeNode(4)\n",
        "root.left.right = BTreeNode(5)\n",
        "\n",
        "# Test the LCA function\n",
        "lca_node = find_LCA(root, 4, 5)\n",
        "print(f\"The LCA of 4 and 5 is: {lca_node.value}\" if lca_node else \"LCA not found\")\n",
        "\n",
        "lca_node = find_LCA(root, 4, 3)\n",
        "print(f\"The LCA of 4 and 3 is: {lca_node.value}\" if lca_node else \"LCA not found\")\n"
      ],
      "metadata": {
        "id": "BPg2juaDfb4b",
        "colab": {
          "base_uri": "https://localhost:8080/"
        },
        "outputId": "044860a3-2feb-4c9e-ff8d-451aa02584b6"
      },
      "execution_count": null,
      "outputs": [
        {
          "output_type": "stream",
          "name": "stdout",
          "text": [
            "The LCA of 4 and 5 is: 2\n",
            "The LCA of 4 and 3 is: 1\n"
          ]
        }
      ]
    },
    {
      "cell_type": "markdown",
      "source": [
        "> **Answer**: The time complexity of this algorithm is O(n), where n = # of nodes in the tree, because in the worst case scenario the function may need to visit all nodes of the tree (when node1 and node2 are in different subtrees). The function visits each node only once, so the amortized time complexity is O(n)."
      ],
      "metadata": {
        "id": "VvutoHO3gN6-"
      }
    }
  ]
}