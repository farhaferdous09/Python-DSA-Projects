{
  "nbformat": 4,
  "nbformat_minor": 0,
  "metadata": {
    "colab": {
      "provenance": []
    },
    "kernelspec": {
      "name": "python3",
      "display_name": "Python 3"
    },
    "language_info": {
      "name": "python"
    }
  },
  "cells": [
    {
      "cell_type": "markdown",
      "source": [
        "* Name: &lt;**Farha Ferdous**&gt;\n",
        "\n",
        "* Student ID: &lt;**24298372**&gt;\n",
        "\n",
        "\n",
        "---\n",
        "\n"
      ],
      "metadata": {
        "id": "jp7Q_lhvA92B"
      }
    },
    {
      "cell_type": "markdown",
      "source": [
        "**Instructions**\n",
        "\n",
        "* Create a copy of this notebook (this notebook itself is set to be immutable).\n",
        "\n",
        "\n",
        "* Complete all questions below by implementing the corresponding function or class. Do not modify any existing code.\n",
        "\n",
        "* Share your notebook and paste the link to Blackboard.\n",
        "---\n",
        "\n"
      ],
      "metadata": {
        "id": "eRc6GY-2pc8M"
      }
    },
    {
      "cell_type": "markdown",
      "source": [
        "1. What is the longest (proper) prefix of the string \"cgtacgttcgtacg\" that is also a suffix of this string?"
      ],
      "metadata": {
        "id": "5dX8gKQWzBp9"
      }
    },
    {
      "cell_type": "markdown",
      "source": [
        "> **Answer**: There are two ways to do this.\n",
        "\n",
        "The first is we can use a naive approach where we break the string in the middle and match the left and right strings and see if they're equal. So in the string cgtacgttcgtacg, we check both the left and right ends and see that the substring 'cgtacg'is found on both ends. Therefore, 'cgtacg' is the longest proper prefix which is also a suffix of the original string. We can also see that this substring is length 6 because it contains 6 characters in total.\n",
        "\n",
        "The second approach is that we should use LPS (longest proper prefix/suffix) to find it. We can do this by using the preprocessing algorithm KPM search. Here is a pseudocode implementation of how the algorithm works like this:\n",
        "\n",
        "  -you initialize an array with size equal to the length of the string. So in this case, cgtacgttcgtacg has a length of 14 so we make an array A equal to size 14 and fill it with zeroes. This array will store the values of the LPS for each index of the strong.\n",
        "\n",
        "  -Then you initialize 2 pointers i and j to 1 and 0 respectively.\n",
        "\n",
        "  -you would make a while loops while iterates through the input string cgtacgttcgtacg starting from index 1. there are two things you'd do in the loop:\n",
        "  1. if chr at index i is equal to char at index j, it updates value of A[i] tp j+1, and increments both i and j by 1.\n",
        "  2. if j is already at first position 0, it simply increments i. otherwise, it updates j to value stored at index a[j-1] which moves j back in the string.\n",
        "\n",
        "  -after the loop you would return the last element of the array A which is the length of the LPS\n",
        "\n",
        "The code for this using the string cgtacgttcgtacg would return 6, so if you look at the first 6 characters and the last 6 character of cgtacgttcgtacg you will see that they match and that it is 'cgtacg'. that's why the LPS is length 6 which we also found through the naive way."
      ],
      "metadata": {
        "id": "jT0wLgDIzDvd"
      }
    },
    {
      "cell_type": "markdown",
      "source": [
        "2. Design a data structure based on a trie that supports adding new words and finding words that start with a specific prefix.\n",
        "\n",
        "  Hint: The python library `pygtrie` provides a trie data structure that supports fast prefix querying and insertion operations."
      ],
      "metadata": {
        "id": "lrL7USk82toD"
      }
    },
    {
      "cell_type": "code",
      "source": [
        "!pip install pygtrie"
      ],
      "metadata": {
        "id": "5-GL78A_1-sW",
        "colab": {
          "base_uri": "https://localhost:8080/"
        },
        "outputId": "04454651-99bc-4ad3-81e3-2a83b594b39f"
      },
      "execution_count": null,
      "outputs": [
        {
          "output_type": "stream",
          "name": "stdout",
          "text": [
            "Collecting pygtrie\n",
            "  Downloading pygtrie-2.5.0-py3-none-any.whl (25 kB)\n",
            "Installing collected packages: pygtrie\n",
            "Successfully installed pygtrie-2.5.0\n"
          ]
        }
      ]
    },
    {
      "cell_type": "code",
      "source": [
        "import pygtrie\n",
        "\n",
        "''' represents a dictionary-like data structure for storing words efficiently and quickly get words with specific prefixes '''\n",
        "class WordDictionary:\n",
        "    ''' constructor method for class and initializes new instance of the class'''\n",
        "    def __init__(self):\n",
        "        #TODO: implement this function\n",
        "        self.trie = pygtrie.CharTrie()  # creates new CharTrie object from pygtrie and assigns it to the trie attribute\n",
        "\n",
        "    ''' method for adding word to the instance of the class '''\n",
        "    def addWord(self, word):  # takes a word paramater\n",
        "        #TODO: implement this function\n",
        "        self.trie[word] = True  # adds the word as a key in the trie, with the value set to True\n",
        "\n",
        "    ''' method for searching words with specific prefix in the instance '''\n",
        "    def search(self, prefix): # takes prefix parameter\n",
        "        #TODO: implement this function\n",
        "        try:  # attempts to run following code\n",
        "          words = list(self.trie.keys(prefix=prefix)) # retrieves all keys/words in trie that starts with the given prefix and converts them to a list\n",
        "          return words  # returns that list containing the prefixes\n",
        "        except KeyError:  # if an exception occurs: the prefix isn't found\n",
        "          return [] # then it returns empty list indicating no words found with specified prefix"
      ],
      "metadata": {
        "id": "Ax9R-Qvj1p66"
      },
      "execution_count": null,
      "outputs": []
    },
    {
      "cell_type": "code",
      "source": [
        "# Example usage\n",
        "wordDictionary = WordDictionary()\n",
        "wordDictionary.addWord(\"apple\")\n",
        "wordDictionary.addWord(\"app\")\n",
        "wordDictionary.addWord(\"application\")\n",
        "print(wordDictionary.search(\"app\"))  # Output: ['apple', 'app', 'application']\n",
        "print(wordDictionary.search(\"an\"))    # Output: []"
      ],
      "metadata": {
        "id": "aUp7aJlu3xnm",
        "colab": {
          "base_uri": "https://localhost:8080/"
        },
        "outputId": "a10f999d-c0fa-437e-ac95-fe7456bf0a39"
      },
      "execution_count": null,
      "outputs": [
        {
          "output_type": "stream",
          "name": "stdout",
          "text": [
            "['app', 'apple', 'application']\n",
            "[]\n"
          ]
        }
      ]
    },
    {
      "cell_type": "markdown",
      "source": [
        "3. If $G$ is a simple undirected graph with 12 vertices and 3 connected components, what is the largest number of edges it might have?"
      ],
      "metadata": {
        "id": "gp25Z-r7qZ7u"
      }
    },
    {
      "cell_type": "markdown",
      "source": [
        "> **Answer**: We use the formula (n - k + 1)(n - k) / 2, where n is the number of vertices and k is the number of connected components to find the maximum number of possible edges in the undirected graph. Here, n=12 and k=3. So we plug it into the equation: (12 - 3 + 1)(12 - 3)/2 = (10 * 9)/2 = 45.\n",
        "\n",
        "So the largest number of nodes would be 45."
      ],
      "metadata": {
        "id": "5-Qu9t-prXo5"
      }
    },
    {
      "cell_type": "markdown",
      "source": [
        "4. In a town, there are n people labeled from 1 to n. There\n",
        "is a rumor that one of these people is secretly the town judge.\n",
        "\n",
        "  If the town judge exists, then:\n",
        "\n",
        "  - The town judge trusts nobody.\n",
        "  - Everybody (except for the town judge) trusts the town judge.\n",
        "  - There is exactly one person that satisfies properties 1 and 2.\n",
        "\n",
        "  You are given an array trust where trust[i] = [ai, bi] representing that the person labeled ai trusts the person labeled bi. If a trust relationship does not exist in trust array, then such a trust relationship does not exist.\n",
        "\n",
        "  Return the label of the town judge if the town judge exists and can be identified, or return -1 otherwise.\n",
        "\n",
        "  Example 1:\n",
        "\n",
        "  - Input: n = 2, trust = [[1,2]]\n",
        "\n",
        "  - Output: 2\n",
        "\n",
        "  Example 2:\n",
        "\n",
        "  - Input: n = 3, trust = [[1,3],[2,3]]\n",
        "\n",
        "  - Output: 3\n",
        "\n",
        "  Example 3:\n",
        "\n",
        "  - Input: n = 3, trust = [[1,3],[2,3],[3,1]]\n",
        "\n",
        "  - Output: -1"
      ],
      "metadata": {
        "id": "KDWjKDLG1Ggd"
      }
    },
    {
      "cell_type": "code",
      "source": [
        "def findJudge(N, trust):\n",
        "    #TODO: complete this function\n",
        "    trust_count = [0] * (N + 1) # initialize array to store the count of trusts for each person\n",
        "                                # add 1 to N to account for people labeled from 1 to N\n",
        "    ''' iterate thru the trust relationships provided in the trust list '''\n",
        "    for a, b in trust:\n",
        "      trust_count[b] += 1 # increments count of trusts for Person B\n",
        "      trust_count[a] -= 1 # increments count of trusts for Person A\n",
        "                          # the town judge trusts nobody, so if Person A trusts Person B,\n",
        "                          # we decrement the count for Person A\n",
        "    ''' iterate through the trust counts for each person '''\n",
        "    for i in range(1, N + 1): # start from index 1 bc people are labelled from 1 to N\n",
        "      if trust_count[i] == N - 1: # checks if person is trusted by everyone else and if they trust nobody\n",
        "                                  # if the trust count for a person is N-1, it means everyone else trusts them\n",
        "                                  # and if they also trust nobody, trust count is 0, then they are the town judge\n",
        "        return i  # returns label of town judge if they are found\n",
        "    return -1 # means no town judge has been found"
      ],
      "metadata": {
        "id": "wAx7JwjW2zn5"
      },
      "execution_count": null,
      "outputs": []
    },
    {
      "cell_type": "code",
      "source": [
        "# Test Code\n",
        "N = 3\n",
        "trust = [[1, 3], [2, 3], [3, 1]]\n",
        "print(findJudge(N, trust))  # Output: -1, because there's a cycle of trust\n",
        "\n",
        "N = 3\n",
        "trust = [[1, 3], [2, 3]]\n",
        "print(findJudge(N, trust))  # Output: 3, person 3 is the town judge"
      ],
      "metadata": {
        "id": "nrM3nZUa21IJ",
        "colab": {
          "base_uri": "https://localhost:8080/"
        },
        "outputId": "37daf18f-b394-4383-b620-f047d7589f29"
      },
      "execution_count": null,
      "outputs": [
        {
          "output_type": "stream",
          "name": "stdout",
          "text": [
            "-1\n",
            "3\n"
          ]
        }
      ]
    }
  ]
}