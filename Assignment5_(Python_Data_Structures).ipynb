{
  "nbformat": 4,
  "nbformat_minor": 0,
  "metadata": {
    "colab": {
      "provenance": []
    },
    "kernelspec": {
      "name": "python3",
      "display_name": "Python 3"
    },
    "language_info": {
      "name": "python"
    }
  },
  "cells": [
    {
      "cell_type": "markdown",
      "source": [
        "\n",
        "1. Suppose you label each position $p$ of a binary tree $T$ with a key equal to its preorder rank. Under what circumstances is $T$ a heap?"
      ],
      "metadata": {
        "id": "iVVhyWS5cgTh"
      }
    },
    {
      "cell_type": "markdown",
      "source": [
        "**Answer**:\n",
        "1. For every internal node v other than the root, key(v) ≥ key(parent(v)) or key(parent(v)) ≤ key(v) . In other words, each parent node's key is less than or equal to the key of its children nodes.\n",
        "\n",
        "2. Must be a complete binary tree. At each depth, there will be $2^i$ nodes, and at the second to last depth ((h-1), where we assume h is the maximum depth of the whole binary tree) all internal nodees (parents) are left of the external nodes (leaves, children who aren't parents). The last node of this tree is the rightmost node of maximum depth.\n",
        "\n",
        "For instance, in the following complete binary tree in preorder rank:\n",
        "\n",
        "          1\n",
        "        /    \\\n",
        "       2      3\n",
        "      / \\    / \\\n",
        "     4   5  6   7\n",
        "    / \\\n",
        "    8   9\n",
        "\n",
        "We see each depth has 2 times more nodes than the previous depth ($2^i$ nodes at each depth, with the first depth being i=0). At depth h-1 (depth 2), we see that the internal nodes 4 and 5 are to the left of the external nodes 6 and 7, and that the last node of the tree is the rightmost node of the maximum depth (node 9 is the rightmost node of the last level in the tree).\n",
        "\n",
        "The tree is in preorder rank, so we see that every parent node's key is less than or equal to its children's keys (1 is less than or equal to 2 and 3, which are the children of the parents and 2 is less than or equal to 4 and 5 which are 2's children). In this tree, the key of every parent node is less than the key of its child node.\n",
        "\n",
        "Therefore, this tree is a heap."
      ],
      "metadata": {
        "id": "fw2EXs2VcZh4"
      }
    },
    {
      "cell_type": "markdown",
      "source": [
        "\n",
        "2. Give an example of a worst-case sequence with $n$ elements for insertion-sort, and show that insertion-sort runs in $O(n^2)$ time on such a sequence."
      ],
      "metadata": {
        "id": "v9eZVIWNdHiD"
      }
    },
    {
      "cell_type": "markdown",
      "source": [
        "> **Answer**: The worst-case sequence for insertion sort is reverse sorted order. For instance, you have an array where every element is less than the element to its left. Every time *insert* is called in this case, every element in the subarray would have to slide one position to the right. For every element to be less than the element to its left, it would mean the array would have to be in reverse sorted order. So if there is an array which is [1,2,3,4,5], its reverse sorted order would be [5,4,3,2,1].\n",
        "\n",
        "In the normal scenario (least-to-greatest priority queue), the running time of insertion-sort would be O(n) since you are just adding in element which is already less than the first element. However, since we have reversed the order in the priority queue for the worst-case sequence, every element is less than every element to its left so the running-time of unsertion sort is O($n^2$) because upon every call to insert, the value inserted is less than every element to its left in the subarray (k=1, k=2, k=3,....,k=n-1) so the total time spent inserting into sorted reverse sorted subarrays is c$n^2$/2 - cn/2. Discard cn/2 because it is a lower term, and the constants c and 1/2 from c$n^2$/2 which leaves us with $n^2$."
      ],
      "metadata": {
        "id": "vZa2Cj5udMEb"
      }
    },
    {
      "cell_type": "markdown",
      "source": [
        "3. Implement an in-place heap-sort algorithm to sort an array reversely (from large to small).\n",
        "\n",
        "> Hint: Implementing an in-place heap-sort algorithm involves a series of steps where you first build a heap from an unsorted array, and then you repeatedly remove the smallest element from the heap, placing it at the end of the array, and adjust the heap accordingly."
      ],
      "metadata": {
        "id": "mk76710ghEwk"
      }
    },
    {
      "cell_type": "code",
      "source": [
        "def heapify(arr, n, i):\n",
        "    #TODO: implement this function\n",
        "    ''' initializes smallest element of the heap '''\n",
        "    smallest = i  # the smallest element is the root of the heap\n",
        "\n",
        "    ''' checks the left node in heap '''\n",
        "    if (2*i + 1) < n and arr[2*i + 1] < arr[smallest]:  # checks if the left child is smaller than the root (currently the smallest element)\n",
        "      smallest = 2*i + 1  # the new smallest element is updated to be the left child\n",
        "\n",
        "    ''' checks the right node in heap '''\n",
        "    if (2*i + 2) < n and arr[2*i + 2] < arr[smallest]:  # checks if the right child is smaller than the root element so far\n",
        "      smallest = 2*i + 2  # the new smallest element is updated to be the right child\n",
        "\n",
        "    ''' checks the root '''\n",
        "    if smallest != i: # checks if the smallest element is NOT the root\n",
        "      arr[i], arr[smallest] = arr[smallest], arr[i] # swaps root with whatever is the smallest element\n",
        "\n",
        "      ''' recursive function to check subtrees of heap '''\n",
        "      heapify(arr, n, smallest) # repeats process of checking for smallest element for the subtrees in the heap\n",
        "\n",
        "''' builds heap from unsorted array and repeatedly removes the smallest element from the heap and puts at end of array '''\n",
        "def heapSort(arr):\n",
        "    n = len(arr)\n",
        "\n",
        "    # Build a minheap.\n",
        "    for i in range(n // 2 - 1, -1, -1):\n",
        "        heapify(arr, n, i)\n",
        "\n",
        "    # One by one extract elements\n",
        "    for i in range(n-1, 0, -1):\n",
        "        arr[i], arr[0] = arr[0], arr[i]  # swap\n",
        "        heapify(arr, i, 0)\n",
        "\n",
        "# Example usage:\n",
        "arr = [12, 11, 13, 5, 6, 7]\n",
        "heapSort(arr)\n",
        "n = len(arr)\n",
        "print(\"Sorted array is\")  # should print array in reverse order (from largest to smallest)\n",
        "for i in range(n):\n",
        "    print(\"%d\" % arr[i], end=\" \")"
      ],
      "metadata": {
        "id": "JM_Qp4MQAkee",
        "colab": {
          "base_uri": "https://localhost:8080/"
        },
        "outputId": "190037c7-505c-46e8-fe7a-4c7b3e8aa598"
      },
      "execution_count": null,
      "outputs": [
        {
          "output_type": "stream",
          "name": "stdout",
          "text": [
            "Sorted array is\n",
            "13 12 11 7 6 5 "
          ]
        }
      ]
    },
    {
      "cell_type": "markdown",
      "source": [
        "4. You are given k sorted integer arrays, each with potentially different sizes. Merge them into one sorted array.\n",
        "\n",
        "> Example:\n",
        "\n",
        "> Input:\n",
        "```\n",
        "[\n",
        "  [1, 4, 5],\n",
        "  [1, 3, 4],\n",
        "  [2, 6]\n",
        "]\n",
        "```\n",
        "\n",
        "> Output:\n",
        "```\n",
        "[1, 1, 2, 3, 4, 4, 5, 6]\n",
        "```\n",
        "\n",
        "- Constraints:\n",
        "\n",
        "> There are k sorted arrays, and the total number of elements is $n$.\n",
        "You may assume $n$ is at least 1.\n",
        "\n",
        "- Hints for Implementation:\n",
        "\n",
        "> A min-heap is an excellent data structure for this problem since it can efficiently track the smallest current element across multiple arrays.\n",
        "Initialize a min-heap that will store pairs of values along with the index of the array they came from, and the index within that array.\n",
        "\n",
        "> Start by inserting the first element of each array into the min-heap.\n",
        "Repeatedly extract the minimum element from the heap and insert the next element from the same array into the heap, if it exists.\n",
        "\n",
        "> The heap will maintain a size of at most $k$ at any time, where $k$ is the number of arrays.\n",
        "\n",
        "> The time complexity of this algorithm is $O(n \\log k)$, where n is the total number of elements across all arrays, and k is the number of arrays."
      ],
      "metadata": {
        "id": "1noiONeQaU4q"
      }
    },
    {
      "cell_type": "code",
      "source": [
        "import heapq #You may use the heapq module directly.\n",
        "\n",
        "''' merges k sorted arrays, takes list of arrays as input '''\n",
        "def merge_k_sorted_arrays(arrays):\n",
        "    #TODO: implement this function\n",
        "    output_list = []  # initialize output list which will show the merged result\n",
        "    min_heap = [(array[0], i, 0) for i, array in enumerate(arrays) if array]  # initialize min heap with first element of each array into the min heap\n",
        "                                                                              # along with array index and index within the array using enumerate function\n",
        "\n",
        "    heapq.heapify(min_heap) # heapifies min-heap list to a heap\n",
        "    ''' continues until min-heap is empty '''\n",
        "    while min_heap:\n",
        "      val, arrIndex, indexWithinArr = heapq.heappop(min_heap) # takes minimum element from the min heap, its value, its array index, and index within the array\n",
        "      output_list.append(val) # adds/appends the minimum element to output list (merged list)\n",
        "\n",
        "      ''' check to see if more elements are in the same array '''\n",
        "      if indexWithinArr + 1 < len(arrays[arrIndex]):  # checks to see if it's at last value yet\n",
        "        nextVal = arrays[arrIndex][indexWithinArr + 1]  # gets the next element from the same array\n",
        "        heapq.heappush(min_heap, (nextVal, arrIndex, indexWithinArr + 1)) # pushes next element onto min heap with array index and index within the array\n",
        "\n",
        "    ''' return output '''\n",
        "    return output_list  # returns output list (merged list)\n",
        "\n",
        "\n",
        "# Example usage:\n",
        "arrays = [\n",
        "  [1, 4, 5],\n",
        "  [1, 3, 4],\n",
        "  [2, 6]\n",
        "]\n",
        "print(merge_k_sorted_arrays(arrays))\n"
      ],
      "metadata": {
        "id": "Owjmqe7qajaR",
        "colab": {
          "base_uri": "https://localhost:8080/"
        },
        "outputId": "6ba4a0fa-58f9-4208-845c-d250747021ab"
      },
      "execution_count": null,
      "outputs": [
        {
          "output_type": "stream",
          "name": "stdout",
          "text": [
            "[1, 1, 2, 3, 4, 4, 5, 6]\n"
          ]
        }
      ]
    },
    {
      "cell_type": "markdown",
      "source": [
        "5. Implement a stack using only a priority queue and one additional integer instance variable."
      ],
      "metadata": {
        "id": "gkWoVf1qIUtm"
      }
    },
    {
      "cell_type": "code",
      "source": [
        "import heapq # You may use the heapq module directly to implement a priority queue\n",
        "\n",
        "class Stack:\n",
        "    def __init__(self):\n",
        "        self.priority_queue = []  # this is the priority queue to store elements with associated priority (timestamp)\n",
        "        self.current_priority = 0  # This will act as the stack's \"time\" stamp for insertion order\n",
        "\n",
        "    ''' define push method to add an element to the stack '''\n",
        "    def push(self, value):\n",
        "        # TODO: implement this function\n",
        "        # HINT: Since heapq in Python is a min-heap, we use negative priorities to simulate a max-heap\n",
        "        self.current_priority +=1 # increments current priority for each push\n",
        "        heapq.heappush(self.priority_queue, (-self.current_priority, value))  # uses negative priority to simulate a max-heap with larger values having higher priority\n",
        "\n",
        "    ''' define pop method to remove and return the top element from the stack '''\n",
        "    def pop(self):\n",
        "        if self.is_empty():\n",
        "            raise IndexError('Pop from an empty stack')\n",
        "        # TODO: implement this function\n",
        "        # HINT: heapq.heappop will return the smallest item, which is our highest priority item\n",
        "        self.current_priority -= 1    # decrements current priority stack with each pop\n",
        "        return heapq.heappop(self.priority_queue)[1]  # pops element with highest priority from the queue and [1] is used to extract the value from (-priority value)\n",
        "\n",
        "    def top(self):\n",
        "        if self.is_empty():\n",
        "            raise IndexError('Top from an empty stack')\n",
        "        return self.priority_queue[0][1]\n",
        "\n",
        "    def is_empty(self):\n",
        "        return len(self.priority_queue) == 0\n",
        "\n",
        "# Example usage:\n",
        "stack = Stack()\n",
        "stack.push(1)\n",
        "stack.push(2)\n",
        "stack.push(3)\n",
        "\n",
        "print(stack.pop())  # Should return 3\n",
        "print(stack.top())  # Should return 2\n",
        "print(stack.pop())  # Should return 2\n",
        "print(stack.pop())  # Should return 1"
      ],
      "metadata": {
        "id": "opP1JkbBIkzP",
        "colab": {
          "base_uri": "https://localhost:8080/"
        },
        "outputId": "070645e4-d6e6-4a7d-f074-583c421c6e8a"
      },
      "execution_count": null,
      "outputs": [
        {
          "output_type": "stream",
          "name": "stdout",
          "text": [
            "3\n",
            "2\n",
            "2\n",
            "1\n"
          ]
        }
      ]
    },
    {
      "cell_type": "markdown",
      "source": [
        "6. Develop a Python implementation of an adaptable priority queue that is based on an unsorted list and supports location-aware entries."
      ],
      "metadata": {
        "id": "BxrupjfbFPMh"
      }
    },
    {
      "cell_type": "code",
      "source": [
        "class AdaptablePriorityQueue:\n",
        "    # Entry class will represent an element in the priority queue\n",
        "    ''' initializes the key, value, index of the entry '''\n",
        "    class Entry:\n",
        "        def __init__(self, key, value, index):\n",
        "            self.key = key\n",
        "            self.value = value\n",
        "            self.index = index\n",
        "\n",
        "    def __init__(self):\n",
        "        self._data = []\n",
        "        self._position_map = {}  # Maps value to its index in the list for O(1) access\n",
        "\n",
        "    def _swap(self, i, j):\n",
        "        \"\"\"Swap elements at indices i and j.\"\"\"\n",
        "        self._data[i], self._data[j] = self._data[j], self._data[i]\n",
        "        self._data[i].index = i\n",
        "        self._data[j].index = j\n",
        "\n",
        "    def is_empty(self):\n",
        "        \"\"\"Check if the priority queue is empty.\"\"\"\n",
        "        return len(self._data) == 0\n",
        "\n",
        "    def add(self, key, value):\n",
        "        \"\"\"Add a key-value pair.\"\"\"\n",
        "        #TODO: implement this function\n",
        "        entry = self.Entry(key, value, len(self._data)) # creates new entry object with a key, value, and index\n",
        "        self._data.append(entry)  # appends the new entry to the _data list\n",
        "        self._position_map[value] = entry # stores the entry in the position map as key-value pair\n",
        "        return entry  # returns this new entry\n",
        "\n",
        "    def min(self):\n",
        "        \"\"\"Return the item with the minimum key.\"\"\"\n",
        "        if self.is_empty():\n",
        "            raise IndexError('Priority queue is empty.')\n",
        "        #TODO: implement this function\n",
        "        def get_key(entry): # HELPER FUNCTION: extracts the key from an entry object\n",
        "          return entry.key  # gets the key from the entry\n",
        "        min_entry = min(self._data, key=get_key)  # finds entry with the minimum key using the helper function\n",
        "        return (min_entry.key, min_entry.value) # returns minimum key and its value\n",
        "\n",
        "    def remove_min(self):\n",
        "        \"\"\"Remove and return the item with the minimum key.\"\"\"\n",
        "        if self.is_empty():\n",
        "            raise IndexError('Priority queue is empty.')\n",
        "        #TODO: implement this function\n",
        "        def get_key(entry): # HELPER FUNCTION: similar to helper function from min function\n",
        "          return entry.key  # gets the key from the entry\n",
        "        min_entry = min(self._data, key=get_key)  # finds entry with the minimum key using the helper function\n",
        "        self._data.remove(min_entry)  # removes the minimum entry from the _data list\n",
        "        del self._position_map[min_entry.value] # removes minimum entry from position map\n",
        "        return (min_entry.key, min_entry.value) # returns minimum key and its corresponding\n",
        "\n",
        "    def update(self, value, new_key):\n",
        "        \"\"\"Update the key for the entry identified by the value.\"\"\"\n",
        "        #TODO: implement this function\n",
        "        if value not in self._position_map: # if value is not in priority queue\n",
        "          raise IndexError('Value not in priority queue.')  # raises exception\n",
        "        entry = self._position_map[value] # else gest entry corresponding to value from position map\n",
        "        entry.key = new_key # updates key of the entry to new key\n",
        "\n",
        "    def remove(self, value):\n",
        "        \"\"\"Remove the entry identified by the value.\"\"\"\n",
        "        #TODO: implement this function\n",
        "        if value not in self._position_map: # similar to if statement from update function: if value is not in priority queue\n",
        "          raise IndexError('Value not in priority queue.')  # raises exception\n",
        "        entry = self._position_map[value] # else gets entry corresponding to value from position map\n",
        "        self._data.remove(entry)  # removes that entry\n",
        "        del self._position_map[value] # removes entry from priority queue\n",
        "\n",
        "# Example usage:\n",
        "pq = AdaptablePriorityQueue()\n",
        "entry = pq.add(5, 'task1')\n",
        "pq.add(3, 'task2')\n",
        "pq.add(7, 'task3')\n",
        "\n",
        "print(pq.min())  # Output should be (3, 'task2')\n",
        "pq.update('task1', 2)\n",
        "print(pq.min())  # Output should be (2, 'task1')\n",
        "pq.remove('task3')\n",
        "print(pq.min())  # Output should be (2, 'task1')\n"
      ],
      "metadata": {
        "id": "_KTfdMqOFLj_",
        "colab": {
          "base_uri": "https://localhost:8080/"
        },
        "outputId": "47ae5aed-cd4e-43d7-c8d0-de13536aa1b2"
      },
      "execution_count": null,
      "outputs": [
        {
          "output_type": "stream",
          "name": "stdout",
          "text": [
            "(3, 'task2')\n",
            "(2, 'task1')\n",
            "(2, 'task1')\n"
          ]
        }
      ]
    }
  ]
}
