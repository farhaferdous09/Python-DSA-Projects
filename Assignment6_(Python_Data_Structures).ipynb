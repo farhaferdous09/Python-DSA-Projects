{
  "nbformat": 4,
  "nbformat_minor": 0,
  "metadata": {
    "colab": {
      "provenance": []
    },
    "kernelspec": {
      "name": "python3",
      "display_name": "Python 3"
    },
    "language_info": {
      "name": "python"
    }
  },
  "cells": [
    {
      "cell_type": "markdown",
      "source": [
        "1. Give a concrete implementation of the items() method directly within the UnsortedTableMap class, ensuring that the entire iteration runs in $O(n)$ time."
      ],
      "metadata": {
        "id": "TqYy4vfsI439"
      }
    },
    {
      "cell_type": "code",
      "source": [
        "from collections.abc import MutableMapping\n",
        "class MapBase(MutableMapping):\n",
        "    \"\"\"Our own abstract base class that includes a nonpublic _Item class.\"\"\"\n",
        "\n",
        "    #------------------------------- nested _Item class -------------------------------\n",
        "    class _Item:\n",
        "        \"\"\"Lightweight composite to store key-value pairs as map items.\"\"\"\n",
        "        __slots__ = '_key', '_value'\n",
        "\n",
        "        def __init__(self, k, v):\n",
        "            self._key = k\n",
        "            self._value = v\n",
        "\n",
        "        def __eq__(self, other):\n",
        "            return self._key == other._key   # compare items based on their keys\n",
        "\n",
        "        def __ne__(self, other):\n",
        "            return not (self == other)       # opposite of __eq__\n",
        "\n",
        "        def __lt__(self, other):\n",
        "            return self._key < other._key    # compare items based on their keys\n",
        "\n",
        "\n",
        "class UnsortedTableMap(MapBase):\n",
        "    \"\"\"Map implementation using an unordered list.\"\"\"\n",
        "\n",
        "    def __init__(self):\n",
        "        \"\"\"Create an empty map.\"\"\"\n",
        "        self._table = []                            # list of _Item's\n",
        "\n",
        "    def __getitem__(self, k):\n",
        "        \"\"\"Return value associated with key k (raise KeyError if not found).\"\"\"\n",
        "        for item in self._table:\n",
        "            if k == item._key:\n",
        "                return item._value\n",
        "        raise KeyError('Key Error: ' + repr(k))\n",
        "\n",
        "    def __setitem__(self, k, v):\n",
        "        \"\"\"Assign value v to key k, overwriting existing value if present.\"\"\"\n",
        "        for item in self._table:\n",
        "            if k == item._key:                      # Found a match:\n",
        "                item._value = v                     # reassign value\n",
        "                return                              # and quit\n",
        "        # did not find match for key\n",
        "        self._table.append(self._Item(k,v))\n",
        "\n",
        "    def __delitem__(self, k):\n",
        "        \"\"\"Remove item associated with key k (raise KeyError if not found).\"\"\"\n",
        "        for j in range(len(self._table)):\n",
        "            if k == self._table[j]._key:            # Found a match:\n",
        "                self._table.pop(j)                  # remove item\n",
        "                return                              # and quit\n",
        "        raise KeyError('Key Error: ' + repr(k))\n",
        "\n",
        "    def __len__(self):\n",
        "        \"\"\"Return number of items in the map.\"\"\"\n",
        "        return len(self._table)\n",
        "\n",
        "    def __iter__(self):\n",
        "        \"\"\"Generate iteration of the map's keys.\"\"\"\n",
        "        for item in self._table:\n",
        "            yield item._key                         # yield the KEY\n",
        "\n",
        "    def items(self):\n",
        "        \"\"\"Generate an iteration of the map's key-value pairs.\"\"\"\n",
        "        #TODO: complete this function\n",
        "        for item in self._table:\n",
        "          yield (item._key, item._value)  # yields tuple containing key-value pair\n"
      ],
      "metadata": {
        "id": "VIV7rLZRI8gX"
      },
      "execution_count": null,
      "outputs": []
    },
    {
      "cell_type": "code",
      "source": [
        "# Assuming the UnsortedTableMap class is already defined as per the previous instructions\n",
        "# including the new items() method\n",
        "\n",
        "if __name__ == \"__main__\":\n",
        "    # Create an instance of UnsortedTableMap\n",
        "    map = UnsortedTableMap()\n",
        "\n",
        "    # Add some key-value pairs\n",
        "    map[\"a\"] = 1\n",
        "    map[\"b\"] = 2\n",
        "    map[\"c\"] = 3\n",
        "\n",
        "    # Use the items() method to iterate over key-value pairs\n",
        "    print(\"Key-Value Pairs:\")\n",
        "    for key, value in map.items():\n",
        "        print(f\"{key}: {value}\")\n",
        "\n",
        "    # Additional tests to ensure the map's functionality\n",
        "    print(\"\\nTesting map functionality:\")\n",
        "    print(\"Length of map:\", len(map))  # Should print the number of items in the map\n",
        "    print(\"Value for key 'b':\", map[\"b\"])  # Should print the value associated with 'b'\n",
        "    print(\"Deleting key 'a'.\")\n",
        "    del map[\"a\"]  # Deleting an item\n",
        "    print(\"Length of map after deletion:\", len(map))  # Length should decrease by 1\n",
        "\n",
        "    # Trying to access deleted key\n",
        "    try:\n",
        "        print(map[\"a\"])\n",
        "    except KeyError as e:\n",
        "        print(f\"KeyError: {e}\")  # Expected behavior\n",
        "\n",
        "    # Print all items after deletion\n",
        "    print(\"\\nKey-Value Pairs after deletion:\")\n",
        "    for key, value in map.items():\n",
        "        print(f\"{key}: {value}\")\n"
      ],
      "metadata": {
        "colab": {
          "base_uri": "https://localhost:8080/"
        },
        "id": "RtPjhVIbJIHh",
        "outputId": "1b210967-a6e1-41a6-e8e5-87435146cac1"
      },
      "execution_count": null,
      "outputs": [
        {
          "output_type": "stream",
          "name": "stdout",
          "text": [
            "Key-Value Pairs:\n",
            "a: 1\n",
            "b: 2\n",
            "c: 3\n",
            "\n",
            "Testing map functionality:\n",
            "Length of map: 3\n",
            "Value for key 'b': 2\n",
            "Deleting key 'a'.\n",
            "Length of map after deletion: 2\n",
            "KeyError: \"Key Error: 'a'\"\n",
            "\n",
            "Key-Value Pairs after deletion:\n",
            "b: 2\n",
            "c: 3\n"
          ]
        }
      ]
    },
    {
      "cell_type": "markdown",
      "source": [
        "2. Suppose we are given two sorted sets S and T, each with n entries with S and T being implemented with arrays. Design and implement an O(n)-time algorithm for finding the intersection of the elements from S and T."
      ],
      "metadata": {
        "id": "I82EDQInrcrc"
      }
    },
    {
      "cell_type": "code",
      "source": [
        "def find_intersection(S, T):\n",
        "    #TODO: implement this function to merge two array-based sets\n",
        "    set1 = set(S)\n",
        "    result = [] # remove duplicates from first arrray\n",
        "    for num in T:\n",
        "      if num in S: # checks if a number in T is also in S\n",
        "        result.append(num)  # adds an intersection\n",
        "        S.remove(num) # avoids duplicates by removing the number from S\n",
        "    return result\n"
      ],
      "metadata": {
        "id": "KGDzBSxIev5M"
      },
      "execution_count": null,
      "outputs": []
    },
    {
      "cell_type": "code",
      "source": [
        "# Example usage\n",
        "S = [1, 3, 5, 7, 9]\n",
        "T = [2, 3, 4, 7, 8]\n",
        "print(find_intersection(S, T))  # Output: [3, 7]"
      ],
      "metadata": {
        "colab": {
          "base_uri": "https://localhost:8080/"
        },
        "id": "gqx8nSM_ezEi",
        "outputId": "8b1eb4c3-ddb3-4bdf-f425-8ea4b33421d8"
      },
      "execution_count": null,
      "outputs": [
        {
          "output_type": "stream",
          "name": "stdout",
          "text": [
            "[3, 7]\n"
          ]
        }
      ]
    },
    {
      "cell_type": "markdown",
      "source": [
        "  3. Suppose that each row of an $n\\times n$ array $A$ consists of 1s and 0s such that, in any row of $A$, all the 1s come before any 0s in that row. Assuming $A$ is already in memory, describe a method running in $O(n log n)$\n",
        "  time for counting the number of 1s in $A$."
      ],
      "metadata": {
        "id": "fdfpl47FkfR6"
      }
    },
    {
      "cell_type": "code",
      "source": [
        "def countOnes(A):\n",
        "    ''' since all the 1s come before the 0s in each row, use binary search to find index of the last 1 in a row '''\n",
        "    ''' searching for last occurrence of 1 in a row will take O(nlogn) time with n being # of rows. total time = O(nlogn) '''\n",
        "    #TODO: implement this function to find the number of 1s in A\n",
        "    ''' define helper function to find index of last occurence of 1 in a row '''\n",
        "    def find_last_one(row):\n",
        "      left, right = 0, len(row) - 1 # initialize left and right pointers\n",
        "      last_one_index = -1 # initialize index of last occurrence of 1\n",
        "\n",
        "      ''' perform binary search to find last occurence of 1 '''\n",
        "      while left <= right:\n",
        "        mid = (left + right) // 2  # find middle index\n",
        "        if row[mid] == 1:\n",
        "          last_one_index = mid  # update last occurrence of 1\n",
        "          left = mid + 1  # continue search to the right\n",
        "        else:\n",
        "          right = mid - 1 # moves right pointer to left\n",
        "      return last_one_index # returns index of the last occurrence of 1\n",
        "\n",
        "    ''' find total number of 1s in entire array '''\n",
        "    count = 0 # initialize counter for number of 1s\n",
        "\n",
        "    for row in A: # iterate through each row in array\n",
        "      last_one_index = find_last_one(row) # find index of the last of occurrence of 1 in the current row\n",
        "      count += last_one_index + 1 # add 1 to index (since index starts from 0)\n",
        "    return count # return total count of 1s in the array\n",
        "\n",
        "\n",
        "# Example\n",
        "A = [\n",
        "    [1, 1, 0, 0],\n",
        "    [1, 1, 1, 0],\n",
        "    [1, 0, 0, 0],\n",
        "    [1, 1, 1, 1]\n",
        "]\n",
        "print(countOnes(A))  # Output: 10"
      ],
      "metadata": {
        "id": "q-7U_eR2ki7r",
        "colab": {
          "base_uri": "https://localhost:8080/"
        },
        "outputId": "a80f2b83-f70d-4bea-b42e-edeaaca6fefe"
      },
      "execution_count": null,
      "outputs": [
        {
          "output_type": "stream",
          "name": "stdout",
          "text": [
            "10\n"
          ]
        }
      ]
    },
    {
      "cell_type": "markdown",
      "source": [
        "4. If rows in $A$ have non-decreasing 1s, can you give a more efficient algorithm?"
      ],
      "metadata": {
        "id": "CLOYMKUHtJ3-"
      }
    },
    {
      "cell_type": "code",
      "source": [
        "def countOnes2(A, topRow, downRow, leftCol, rightCol):\n",
        "    #TODO: implement this function\n",
        "    count = 0 # create counter for total # of 1s\n",
        "    for row in range(topRow, downRow + 1):  # iterate through rows from topRow to downRow\n",
        "      left, right = leftCol, rightCol # initialize left and right pointers for binary search\n",
        "      while left <= right:  # continue binary search until left pointer exceeds right pointer\n",
        "        mid = (left + right) // 2 # calculate middle index\n",
        "        if A[row][mid] == 0:  # if element at middle index is 0\n",
        "          right = mid - 1 # update right pointer to search in the left half\n",
        "        else: # if element at middle index is 1\n",
        "          left = mid + 1  # update left pointer to search in the right half\n",
        "      count += left - leftCol # add the count of 1s in this row to the total count\n",
        "                              # left - leftCol gives the count of 1s in this row since leftCol represents the starting index of the row\n",
        "    return count  # return total count of 1s in the range of the array\n",
        "\n",
        "# Example\n",
        "A = [\n",
        "    [1, 1, 0, 0],\n",
        "    [1, 1, 1, 0],\n",
        "    [1, 1, 1, 0],\n",
        "    [1, 1, 1, 1]\n",
        "]\n",
        "print(countOnes2(A, 0, 3, 0, 3))  # Output: 12"
      ],
      "metadata": {
        "colab": {
          "base_uri": "https://localhost:8080/"
        },
        "id": "H84jsCmMtTaG",
        "outputId": "a730210b-6956-40e9-c9e3-4c500ca80354"
      },
      "execution_count": null,
      "outputs": [
        {
          "output_type": "stream",
          "name": "stdout",
          "text": [
            "12\n"
          ]
        }
      ]
    },
    {
      "cell_type": "markdown",
      "source": [
        "5. Starting with Python 3.7, the `dict` class guarantees that an iteration will report items of a map according to first-in, first-out (FIFO) order. That is, the key that has been in the dictionary the longest is reported first, and so on. The order is unaffected when the value for an existing key is overwritten. (Note: this behavior had previously been supported by the `collections.OrderedDict` class.)\n",
        "\n",
        "  Implement this feature based on the `ProbeHashMap` class for providing this iteration order while still maintaining the expected time performance of all hash-based map operations."
      ],
      "metadata": {
        "id": "UgGp64orNk3x"
      }
    },
    {
      "cell_type": "code",
      "source": [
        "from random import randrange\n",
        "\n",
        "class MapBase:\n",
        "    \"\"\"Our own abstract base class that includes a nonpublic _Item class.\"\"\"\n",
        "\n",
        "    class _Item:\n",
        "        \"\"\"Lightweight composite to store key-value pairs as map items.\"\"\"\n",
        "        __slots__ = '_key', '_value'\n",
        "\n",
        "        def __init__(self, k, v):\n",
        "            self._key = k\n",
        "            self._value = v\n",
        "\n",
        "        def __eq__(self, other):\n",
        "            return self._key == other._key   # compare items based on their keys\n",
        "\n",
        "        def __ne__(self, other):\n",
        "            return not (self == other)       # opposite of __eq__\n",
        "\n",
        "        def __lt__(self, other):\n",
        "            return self._key < other._key    # compare items based on their keys\n",
        "\n",
        "class HashMapBase(MapBase):\n",
        "    \"\"\"Abstract base class for map using hash-table with MAD compression.\"\"\"\n",
        "\n",
        "    def __init__(self, cap=17, p=109345121):\n",
        "        \"\"\"Create an empty hash-table map.\"\"\"\n",
        "        self._table = cap * [ None ]\n",
        "        self._n = 0                                   # number of entries in the map\n",
        "        self._prime = p                               # prime for MAD compression\n",
        "        self._scale = 1 + randrange(p-1)              # scale from 1 to p-1 for MAD\n",
        "        self._shift = randrange(p)                    # shift from 0 to p-1 for MAD\n",
        "\n",
        "    def _hash_function(self, k):\n",
        "        return (hash(k)*self._scale + self._shift) % self._prime % len(self._table)\n",
        "\n",
        "    def __len__(self):\n",
        "        return self._n\n",
        "\n",
        "    def __getitem__(self, k):\n",
        "        j = self._hash_function(k)\n",
        "        return self._bucket_getitem(j, k)             # may raise KeyError\n",
        "\n",
        "    def __setitem__(self, k, v):\n",
        "        j = self._hash_function(k)\n",
        "        self._bucket_setitem(j, k, v)                 # subroutine maintains self._n\n",
        "        if self._n > len(self._table) // 2:           # keep load factor <= 0.5\n",
        "            self._resize(2 * len(self._table) - 1)    # number 2**x + 1 is often prime\n",
        "\n",
        "    def __delitem__(self, k):\n",
        "        j = self._hash_function(k)\n",
        "        self._bucket_delitem(j, k)                    # may raise KeyError\n",
        "        self._n -= 1\n",
        "\n",
        "    def _resize(self, c):            # resize bucket array to capacity c\n",
        "        old = list(self.items())     # use iteration to record existing items\n",
        "        self._table = c * [None]     # then reset table to desired capacity\n",
        "        self._n = 0                  # n recomputed during subsequent adds\n",
        "        for (k,v) in old:\n",
        "            self[k] = v              # reinsert old key-value pair\n",
        "\n",
        "class ProbeHashMap(HashMapBase):\n",
        "    \"\"\"Hash map implemented with linear probing for collision resolution.\"\"\"\n",
        "    _AVAIL = object()       # sentinal marks locations of previous deletions\n",
        "\n",
        "    def _is_available(self, j):\n",
        "        \"\"\"Return True if index j is available in table.\"\"\"\n",
        "        return self._table[j] is None or self._table[j] is ProbeHashMap._AVAIL\n",
        "\n",
        "    def _find_slot(self, j, k):\n",
        "        \"\"\"Search for key k in bucket at index j.\n",
        "\n",
        "        Return (success, index) tuple, described as follows:\n",
        "        If match was found, success is True and index denotes its location.\n",
        "        If no match found, success is False and index denotes first available slot.\n",
        "        \"\"\"\n",
        "        firstAvail = None\n",
        "        while True:\n",
        "            if self._is_available(j):\n",
        "                if firstAvail is None:\n",
        "                    firstAvail = j                  # mark this as first avail\n",
        "                if self._table[j] is None:\n",
        "                    return (False, firstAvail)      # search has failed\n",
        "            elif k == self._table[j]._key:\n",
        "                return (True, j)                    # found a match\n",
        "            j = (j + 1) % len(self._table)          # keep looking (cyclically)\n",
        "\n",
        "    def _bucket_getitem(self, j, k):\n",
        "        found, s = self._find_slot(j, k)\n",
        "        if not found:\n",
        "            raise KeyError('Key Error: ' + repr(k))    # no match found\n",
        "        return self._table[s]._value\n",
        "\n",
        "    def _bucket_setitem(self, j, k, v):\n",
        "        found, s = self._find_slot(j, k)\n",
        "        if not found:\n",
        "            self._table[s] = self._Item(k,v)           # insert new item\n",
        "            self._n += 1                               # size has increased\n",
        "        else:\n",
        "            self._table[s]._value = v                  # overwrite existing\n",
        "\n",
        "    def _bucket_delitem(self, j, k):\n",
        "        found, s = self._find_slot(j, k)\n",
        "        if not found:\n",
        "            raise KeyError('Key Error: ' + repr(k))    # no match found\n",
        "        self._table[s] = ProbeHashMap._AVAIL           # mark as vacated\n",
        "\n",
        "    def __iter__(self):\n",
        "        for j in range(len(self._table)):              # scan entire table\n",
        "            if not self._is_available(j):\n",
        "                yield self._table[j]._key"
      ],
      "metadata": {
        "id": "b7qSwPk-OQ1a"
      },
      "execution_count": null,
      "outputs": []
    },
    {
      "cell_type": "code",
      "source": [
        "class ChainHashMap(ProbeHashMap):\n",
        "    \"\"\"Abstract base class for map using hash-table with MAD compression.\"\"\"\n",
        "\n",
        "    def __init__(self, cap=17, p=109345121):\n",
        "        \"\"\"Create an empty hash-table map.\"\"\"\n",
        "        #TODO: implement the rest of this function\n",
        "        super().__init__(cap, p)  # call constructor of parent class ProbeHashMap with paramaters\n",
        "        self._chain = {}  # initializes dictionary to store chains\n",
        "        self._head = None # initializes head of linked list\n",
        "        self._tail = None # initializes tail of linked list\n",
        "\n",
        "\n",
        "    def __setitem__(self, k, v):\n",
        "        ''' setting key-valye pair in hash map while maintaing the insertion order in linked list '''\n",
        "        super().__setitem__(k, v) # calls setitem method of parent class (ProbeHashMap) with paramaters\n",
        "        #TODO: implement the rest of this function\n",
        "        if k in self._chain:  # checks if key already exists in chain\n",
        "          self._chain[k] = (v, self._chain[k][1]) # if it does, update value and keep the next pointer unchanged\n",
        "        else:\n",
        "          if self._head is None:  # if linked list IS empty\n",
        "            self._head = self._tail = k # sets both head and tail to current key\n",
        "            self._chain[k] = (v, None)  # stores value and set next pointer as None\n",
        "          else: # if linked list ISN'T empty\n",
        "            self._chain[self._tail] = (self._chain[self._tail][0], k) # update next pointer of current tail to new key\n",
        "            self._chain[k] = (v, None)  # stores value and set next pointer as None\n",
        "            self._tail = k  # updates tail to current key\n",
        "\n",
        "\n",
        "    def __delitem__(self, k):\n",
        "        ''' deleting key-value pair from hash map '''\n",
        "        super().__delitem__(k)  # calls delitem method of parent class (ProbeHashMap) with parameters\n",
        "        #TODO: implement the rest of this function\n",
        "        if k == self._head: # if deleting the head\n",
        "          if self._head == self._tail:  # if only one element is in the linked list\n",
        "            self._head = self._tail = None  # there is no head and tail\n",
        "          else:\n",
        "            self._head = self._chain[self._head][1] # updates head to next pointer of current head\n",
        "        else:\n",
        "          current = self._head  # makes current node the head for traversing till the end of the linked list\n",
        "          while self._chain[current][1] != k: # traverses until previous node of key\n",
        "            current = self._chain[current][1] # traverse list to find node just before the node with the key to be deleted ('k')\n",
        "          self._chain[current] = (self._chain[current][0], self._chain[k][1]) # uodates next pointer of previous node\n",
        "          if k == self._tail: # if deleting the tail\n",
        "            self._tail = current  # updates tail to current node\n",
        "\n",
        "        del self._chain[k]  # deletes key from the chain\n",
        "\n",
        "\n",
        "    def items(self):\n",
        "        \"\"\"Generate sequence of key-value pairs in insertion order.\"\"\"\n",
        "        #TODO: implement this function\n",
        "        current = self._head  # starts from head of linked list\n",
        "        while current is not None:  # iterates until end of linkedlist\n",
        "          yield current, self._chain[current][0]  # yields key-value pair of current node\n",
        "          current = self._chain[current][1] # moves to next node in the linked list\n"
      ],
      "metadata": {
        "id": "yzn8HpRMSDMF"
      },
      "execution_count": null,
      "outputs": []
    },
    {
      "cell_type": "code",
      "source": [
        "def test_chain_hash_map():\n",
        "    map = ChainHashMap()\n",
        "    keys = ['apple', 'banana', 'orange', 'melon', 'grape', 'berry']\n",
        "    values = [5, 3, 8, 2, 0, 7]\n",
        "\n",
        "    # Insert key-value pairs\n",
        "    for key, value in zip(keys, values):\n",
        "        map[key] = value\n",
        "\n",
        "    # Check size\n",
        "    assert len(map) == len(keys), f\"Expected map size {len(keys)}, got {len(map)}\"\n",
        "\n",
        "    # Check order of items\n",
        "    expected_order = keys\n",
        "    actual_order = [key for key, _ in map.items()]\n",
        "    assert expected_order == actual_order, f\"Expected order {expected_order}, got {actual_order}\"\n",
        "\n",
        "    # Overwrite a value and check order remains unchanged\n",
        "    map['apple'] = 10\n",
        "    assert [key for key, _ in map.items()] == expected_order, \"Order changed after overwriting a value\"\n",
        "\n",
        "    # Delete an item and check order\n",
        "    map.__delitem__('orange')\n",
        "    expected_order = ['apple', 'banana', 'melon', 'grape', 'berry']\n",
        "    actual_order = [key for key, _ in map.items()]\n",
        "    assert expected_order == actual_order, \"Order incorrect after deletion\"\n",
        "\n",
        "    # Check retrieval\n",
        "    assert map['apple'] == 10, \"Incorrect value retrieved\"\n",
        "    assert map['berry'] == 7, \"Incorrect value retrieved\"\n",
        "\n",
        "    # Check KeyError for missing key\n",
        "    try:\n",
        "        _ = map['pear']\n",
        "        assert False, \"Expected KeyError for missing key\"\n",
        "    except KeyError:\n",
        "        pass  # Expected\n",
        "\n",
        "    print(\"All tests passed!\")\n",
        "\n",
        "test_chain_hash_map()"
      ],
      "metadata": {
        "colab": {
          "base_uri": "https://localhost:8080/"
        },
        "id": "45BjWVCaVmna",
        "outputId": "2e69890e-4873-41e8-9655-17c1e6db36f9"
      },
      "execution_count": null,
      "outputs": [
        {
          "output_type": "stream",
          "name": "stdout",
          "text": [
            "All tests passed!\n"
          ]
        }
      ]
    },
    {
      "cell_type": "markdown",
      "source": [
        "6. Given an array of integers, the task is to find the number of distinct elements in every subarray of a given size k. This problem tests the ability to efficiently manage and update the count of unique elements within sliding windows across an array.\n",
        "\n",
        "  Write a function `count_distinct_elements` in Python that takes an array of integers and a subarray size k, and returns a list of the count of distinct elements in every contiguous subarray of size k.\n",
        "\n",
        "  Input:\n",
        "\n",
        "  arr: A list of integers representing the array.\n",
        "\n",
        "  k: An integer representing the size of the subarray.\n",
        "\n",
        "  Output:\n",
        "\n",
        "  A list of integers where each integer represents the number of distinct elements in the corresponding subarray of size k.\n",
        "\n",
        "  You should use the Python `dict` as a hashmap to keep track of the number of times each element appears in the current window of size k."
      ],
      "metadata": {
        "id": "LJaLhqrZYRYA"
      }
    },
    {
      "cell_type": "code",
      "source": [
        "def count_distinct_elements(arr, k):\n",
        "    #TODO: implement this function\n",
        "    result = [] # initializes a list to store the counts of distinct elements in each subarray\n",
        "    window_counts = {}  # initiailizes dict to store counts of elements within the current window\n",
        "    distinct_count = 0  # initializes count of distinct elements in the current window\n",
        "\n",
        "    ''' iterate through first k elements to initialize the window '''\n",
        "    for i in range(k):\n",
        "      if arr[i] not in window_counts: # if element not see previously in window\n",
        "        window_counts[arr[i]] = 1 # adds element to window_count with count 1\n",
        "        distinct_count += 1 # increments distinct_count as new element is encountered\n",
        "      else: # if element seen previously in window\n",
        "        window_counts[arr[i]] += 1  # increments count of existing element in window_counts\n",
        "    result.append(distinct_count) # adds count of distinct elements in first window to the result\n",
        "\n",
        "    ''' slide the window and update counts for subsequent windows '''\n",
        "    for i in range(k, len(arr)):  # iterates from k to length of array (represents sliding window mechanism)\n",
        "      window_counts[arr[i - k]] -= 1  # removes element leaving window\n",
        "      if window_counts[arr[i - k]] == 0:  # if count becomes 0, removes from window counts\n",
        "        distinct_count -= 1 # decrements count of distinct element as element leaves sliding window\n",
        "\n",
        "      ''' add new element entering the window '''\n",
        "      if arr[i] not in window_counts or window_counts[arr[i]] == 0: # if element not seen previously  in window or it becomes 0\n",
        "        window_counts[arr[i]] = 1 # sets count of new element entering the window to 1\n",
        "        distinct_count += 1 # increments count of distinct elements in current window\n",
        "      else: # if element seen previously in window\n",
        "        window_counts[arr[i]] += 1  # increments count of current element in window\n",
        "      result.append(distinct_count) # adds count of distinct elements in current window to result\n",
        "\n",
        "    return result\n"
      ],
      "metadata": {
        "id": "DcQTtYKmYv2j"
      },
      "execution_count": null,
      "outputs": []
    },
    {
      "cell_type": "code",
      "source": [
        "# Test case 1\n",
        "arr1 = [1, 2, 1, 3, 4, 2, 3]\n",
        "k1 = 4\n",
        "print(count_distinct_elements(arr1, k1))  # Expected output: [3, 4, 4, 3]\n",
        "\n",
        "# Test case 2\n",
        "arr2 = [1, 1, 1, 1]\n",
        "k2 = 2\n",
        "print(count_distinct_elements(arr2, k2))  # Expected output: [1, 1, 1]\n",
        "\n",
        "# Test case 3\n",
        "arr3 = [1, 2, 3, 4, 5]\n",
        "k3 = 3\n",
        "print(count_distinct_elements(arr3, k3))  # Expected output: [3, 3, 3]"
      ],
      "metadata": {
        "colab": {
          "base_uri": "https://localhost:8080/"
        },
        "id": "QMmQ6suGWxVA",
        "outputId": "bb291897-3747-4e48-b92e-c77ebae50ee3"
      },
      "execution_count": null,
      "outputs": [
        {
          "output_type": "stream",
          "name": "stdout",
          "text": [
            "[3, 4, 4, 3]\n",
            "[1, 1, 1]\n",
            "[3, 3, 3]\n"
          ]
        }
      ]
    }
  ]
}
